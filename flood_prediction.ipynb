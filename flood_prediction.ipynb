{
  "nbformat": 4,
  "nbformat_minor": 0,
  "metadata": {
    "colab": {
      "provenance": []
    },
    "kernelspec": {
      "name": "python3",
      "display_name": "Python 3"
    },
    "language_info": {
      "name": "python"
    }
  },
  "cells": [
    {
      "cell_type": "code",
      "execution_count": null,
      "metadata": {
        "colab": {
          "base_uri": "https://localhost:8080/"
        },
        "id": "pixQfXb2jnOe",
        "outputId": "06c8359c-8fd1-4c69-d7dc-f7d7d8059974"
      },
      "outputs": [
        {
          "output_type": "stream",
          "name": "stdout",
          "text": [
            "Mounted at /content/drive\n"
          ]
        }
      ],
      "source": [
        "from google.colab import drive\n",
        "drive.mount('/content/drive')"
      ]
    },
    {
      "cell_type": "code",
      "source": [
        "import pandas as pd\n",
        "data=pd.read_csv('/content/drive/MyDrive/kerela - Sheet1.csv')"
      ],
      "metadata": {
        "id": "E6J-SZG5kUSQ"
      },
      "execution_count": null,
      "outputs": []
    },
    {
      "cell_type": "markdown",
      "source": [
        "# DATA ANALYSIS"
      ],
      "metadata": {
        "id": "htkj5emOtdzM"
      }
    },
    {
      "cell_type": "code",
      "source": [
        "data"
      ],
      "metadata": {
        "colab": {
          "base_uri": "https://localhost:8080/",
          "height": 423
        },
        "id": "BJ8_LJcakUUv",
        "outputId": "949d0366-cc00-42f2-e4ae-f379aa118ce2"
      },
      "execution_count": null,
      "outputs": [
        {
          "output_type": "execute_result",
          "data": {
            "text/plain": [
              "     S NO  Start Date     End Date Duration(Days)   Main Cause  Location  \\\n",
              "0       1  03-09-2013   03-09-2013              0  Heavy rains       NaN   \n",
              "1       2  03-12-2013   03-12-2013              0  Heavy rains       NaN   \n",
              "2       3  26-03-2013   26-03-2013              0  Heavy rains       NaN   \n",
              "3       4  29-03-2013   31-03-2013              2  Heavy rains       NaN   \n",
              "4       5    26/04/13     28/04/13              2  Heavy rains       NaN   \n",
              "..    ...         ...          ...            ...          ...       ...   \n",
              "141   142         NaN     Aug,2012            NaN          NaN       NaN   \n",
              "142   143         NaN    July,2012            NaN          NaN       NaN   \n",
              "143   144         NaN  June , 2013            NaN          NaN       NaN   \n",
              "144   145         NaN   Jan , 2014            NaN          NaN       NaN   \n",
              "145   146         NaN    July,2011            NaN          NaN       NaN   \n",
              "\n",
              "              Districts      State        DTR  CWD      TN10P      TX10P FLOOD  \n",
              "0               Wayanad     KERALA  13.395041   79  19.308000  28.973000   YES  \n",
              "1                Kannur     KERALA   8.443452   75  24.025041  32.095178   YES  \n",
              "2    Thiruvananthapuram     KERALA   8.680247   48  25.670548  34.175945   YES  \n",
              "3               Wayanad     KERALA  13.395041   79  19.308000  28.973000   YES  \n",
              "4               Wayanad     KERALA  13.395041   79  19.308000  28.973000   YES  \n",
              "..                  ...        ...        ...  ...        ...        ...   ...  \n",
              "141           Kodikulam     Kerala   8.732600   43  21.097534  31.511370    NO  \n",
              "142               Hasan  Karnataka   9.911370   36  16.739644  26.975507    NO  \n",
              "143                Ooty  KARNATAKA   8.954356   71  10.196986  19.890000    NO  \n",
              "144            Hubballi  KARNATAKA   9.473507   42  20.326301  30.730521    NO  \n",
              "145           Gundlupet  Karnataka   9.961370   23  18.909589  28.859260    NO  \n",
              "\n",
              "[146 rows x 13 columns]"
            ],
            "text/html": [
              "\n",
              "  <div id=\"df-f1c93078-d0c3-48ca-9d2c-5e0ef3b62b45\">\n",
              "    <div class=\"colab-df-container\">\n",
              "      <div>\n",
              "<style scoped>\n",
              "    .dataframe tbody tr th:only-of-type {\n",
              "        vertical-align: middle;\n",
              "    }\n",
              "\n",
              "    .dataframe tbody tr th {\n",
              "        vertical-align: top;\n",
              "    }\n",
              "\n",
              "    .dataframe thead th {\n",
              "        text-align: right;\n",
              "    }\n",
              "</style>\n",
              "<table border=\"1\" class=\"dataframe\">\n",
              "  <thead>\n",
              "    <tr style=\"text-align: right;\">\n",
              "      <th></th>\n",
              "      <th>S NO</th>\n",
              "      <th>Start Date</th>\n",
              "      <th>End Date</th>\n",
              "      <th>Duration(Days)</th>\n",
              "      <th>Main Cause</th>\n",
              "      <th>Location</th>\n",
              "      <th>Districts</th>\n",
              "      <th>State</th>\n",
              "      <th>DTR</th>\n",
              "      <th>CWD</th>\n",
              "      <th>TN10P</th>\n",
              "      <th>TX10P</th>\n",
              "      <th>FLOOD</th>\n",
              "    </tr>\n",
              "  </thead>\n",
              "  <tbody>\n",
              "    <tr>\n",
              "      <th>0</th>\n",
              "      <td>1</td>\n",
              "      <td>03-09-2013</td>\n",
              "      <td>03-09-2013</td>\n",
              "      <td>0</td>\n",
              "      <td>Heavy rains</td>\n",
              "      <td>NaN</td>\n",
              "      <td>Wayanad</td>\n",
              "      <td>KERALA</td>\n",
              "      <td>13.395041</td>\n",
              "      <td>79</td>\n",
              "      <td>19.308000</td>\n",
              "      <td>28.973000</td>\n",
              "      <td>YES</td>\n",
              "    </tr>\n",
              "    <tr>\n",
              "      <th>1</th>\n",
              "      <td>2</td>\n",
              "      <td>03-12-2013</td>\n",
              "      <td>03-12-2013</td>\n",
              "      <td>0</td>\n",
              "      <td>Heavy rains</td>\n",
              "      <td>NaN</td>\n",
              "      <td>Kannur</td>\n",
              "      <td>KERALA</td>\n",
              "      <td>8.443452</td>\n",
              "      <td>75</td>\n",
              "      <td>24.025041</td>\n",
              "      <td>32.095178</td>\n",
              "      <td>YES</td>\n",
              "    </tr>\n",
              "    <tr>\n",
              "      <th>2</th>\n",
              "      <td>3</td>\n",
              "      <td>26-03-2013</td>\n",
              "      <td>26-03-2013</td>\n",
              "      <td>0</td>\n",
              "      <td>Heavy rains</td>\n",
              "      <td>NaN</td>\n",
              "      <td>Thiruvananthapuram</td>\n",
              "      <td>KERALA</td>\n",
              "      <td>8.680247</td>\n",
              "      <td>48</td>\n",
              "      <td>25.670548</td>\n",
              "      <td>34.175945</td>\n",
              "      <td>YES</td>\n",
              "    </tr>\n",
              "    <tr>\n",
              "      <th>3</th>\n",
              "      <td>4</td>\n",
              "      <td>29-03-2013</td>\n",
              "      <td>31-03-2013</td>\n",
              "      <td>2</td>\n",
              "      <td>Heavy rains</td>\n",
              "      <td>NaN</td>\n",
              "      <td>Wayanad</td>\n",
              "      <td>KERALA</td>\n",
              "      <td>13.395041</td>\n",
              "      <td>79</td>\n",
              "      <td>19.308000</td>\n",
              "      <td>28.973000</td>\n",
              "      <td>YES</td>\n",
              "    </tr>\n",
              "    <tr>\n",
              "      <th>4</th>\n",
              "      <td>5</td>\n",
              "      <td>26/04/13</td>\n",
              "      <td>28/04/13</td>\n",
              "      <td>2</td>\n",
              "      <td>Heavy rains</td>\n",
              "      <td>NaN</td>\n",
              "      <td>Wayanad</td>\n",
              "      <td>KERALA</td>\n",
              "      <td>13.395041</td>\n",
              "      <td>79</td>\n",
              "      <td>19.308000</td>\n",
              "      <td>28.973000</td>\n",
              "      <td>YES</td>\n",
              "    </tr>\n",
              "    <tr>\n",
              "      <th>...</th>\n",
              "      <td>...</td>\n",
              "      <td>...</td>\n",
              "      <td>...</td>\n",
              "      <td>...</td>\n",
              "      <td>...</td>\n",
              "      <td>...</td>\n",
              "      <td>...</td>\n",
              "      <td>...</td>\n",
              "      <td>...</td>\n",
              "      <td>...</td>\n",
              "      <td>...</td>\n",
              "      <td>...</td>\n",
              "      <td>...</td>\n",
              "    </tr>\n",
              "    <tr>\n",
              "      <th>141</th>\n",
              "      <td>142</td>\n",
              "      <td>NaN</td>\n",
              "      <td>Aug,2012</td>\n",
              "      <td>NaN</td>\n",
              "      <td>NaN</td>\n",
              "      <td>NaN</td>\n",
              "      <td>Kodikulam</td>\n",
              "      <td>Kerala</td>\n",
              "      <td>8.732600</td>\n",
              "      <td>43</td>\n",
              "      <td>21.097534</td>\n",
              "      <td>31.511370</td>\n",
              "      <td>NO</td>\n",
              "    </tr>\n",
              "    <tr>\n",
              "      <th>142</th>\n",
              "      <td>143</td>\n",
              "      <td>NaN</td>\n",
              "      <td>July,2012</td>\n",
              "      <td>NaN</td>\n",
              "      <td>NaN</td>\n",
              "      <td>NaN</td>\n",
              "      <td>Hasan</td>\n",
              "      <td>Karnataka</td>\n",
              "      <td>9.911370</td>\n",
              "      <td>36</td>\n",
              "      <td>16.739644</td>\n",
              "      <td>26.975507</td>\n",
              "      <td>NO</td>\n",
              "    </tr>\n",
              "    <tr>\n",
              "      <th>143</th>\n",
              "      <td>144</td>\n",
              "      <td>NaN</td>\n",
              "      <td>June , 2013</td>\n",
              "      <td>NaN</td>\n",
              "      <td>NaN</td>\n",
              "      <td>NaN</td>\n",
              "      <td>Ooty</td>\n",
              "      <td>KARNATAKA</td>\n",
              "      <td>8.954356</td>\n",
              "      <td>71</td>\n",
              "      <td>10.196986</td>\n",
              "      <td>19.890000</td>\n",
              "      <td>NO</td>\n",
              "    </tr>\n",
              "    <tr>\n",
              "      <th>144</th>\n",
              "      <td>145</td>\n",
              "      <td>NaN</td>\n",
              "      <td>Jan , 2014</td>\n",
              "      <td>NaN</td>\n",
              "      <td>NaN</td>\n",
              "      <td>NaN</td>\n",
              "      <td>Hubballi</td>\n",
              "      <td>KARNATAKA</td>\n",
              "      <td>9.473507</td>\n",
              "      <td>42</td>\n",
              "      <td>20.326301</td>\n",
              "      <td>30.730521</td>\n",
              "      <td>NO</td>\n",
              "    </tr>\n",
              "    <tr>\n",
              "      <th>145</th>\n",
              "      <td>146</td>\n",
              "      <td>NaN</td>\n",
              "      <td>July,2011</td>\n",
              "      <td>NaN</td>\n",
              "      <td>NaN</td>\n",
              "      <td>NaN</td>\n",
              "      <td>Gundlupet</td>\n",
              "      <td>Karnataka</td>\n",
              "      <td>9.961370</td>\n",
              "      <td>23</td>\n",
              "      <td>18.909589</td>\n",
              "      <td>28.859260</td>\n",
              "      <td>NO</td>\n",
              "    </tr>\n",
              "  </tbody>\n",
              "</table>\n",
              "<p>146 rows × 13 columns</p>\n",
              "</div>\n",
              "      <button class=\"colab-df-convert\" onclick=\"convertToInteractive('df-f1c93078-d0c3-48ca-9d2c-5e0ef3b62b45')\"\n",
              "              title=\"Convert this dataframe to an interactive table.\"\n",
              "              style=\"display:none;\">\n",
              "        \n",
              "  <svg xmlns=\"http://www.w3.org/2000/svg\" height=\"24px\"viewBox=\"0 0 24 24\"\n",
              "       width=\"24px\">\n",
              "    <path d=\"M0 0h24v24H0V0z\" fill=\"none\"/>\n",
              "    <path d=\"M18.56 5.44l.94 2.06.94-2.06 2.06-.94-2.06-.94-.94-2.06-.94 2.06-2.06.94zm-11 1L8.5 8.5l.94-2.06 2.06-.94-2.06-.94L8.5 2.5l-.94 2.06-2.06.94zm10 10l.94 2.06.94-2.06 2.06-.94-2.06-.94-.94-2.06-.94 2.06-2.06.94z\"/><path d=\"M17.41 7.96l-1.37-1.37c-.4-.4-.92-.59-1.43-.59-.52 0-1.04.2-1.43.59L10.3 9.45l-7.72 7.72c-.78.78-.78 2.05 0 2.83L4 21.41c.39.39.9.59 1.41.59.51 0 1.02-.2 1.41-.59l7.78-7.78 2.81-2.81c.8-.78.8-2.07 0-2.86zM5.41 20L4 18.59l7.72-7.72 1.47 1.35L5.41 20z\"/>\n",
              "  </svg>\n",
              "      </button>\n",
              "      \n",
              "  <style>\n",
              "    .colab-df-container {\n",
              "      display:flex;\n",
              "      flex-wrap:wrap;\n",
              "      gap: 12px;\n",
              "    }\n",
              "\n",
              "    .colab-df-convert {\n",
              "      background-color: #E8F0FE;\n",
              "      border: none;\n",
              "      border-radius: 50%;\n",
              "      cursor: pointer;\n",
              "      display: none;\n",
              "      fill: #1967D2;\n",
              "      height: 32px;\n",
              "      padding: 0 0 0 0;\n",
              "      width: 32px;\n",
              "    }\n",
              "\n",
              "    .colab-df-convert:hover {\n",
              "      background-color: #E2EBFA;\n",
              "      box-shadow: 0px 1px 2px rgba(60, 64, 67, 0.3), 0px 1px 3px 1px rgba(60, 64, 67, 0.15);\n",
              "      fill: #174EA6;\n",
              "    }\n",
              "\n",
              "    [theme=dark] .colab-df-convert {\n",
              "      background-color: #3B4455;\n",
              "      fill: #D2E3FC;\n",
              "    }\n",
              "\n",
              "    [theme=dark] .colab-df-convert:hover {\n",
              "      background-color: #434B5C;\n",
              "      box-shadow: 0px 1px 3px 1px rgba(0, 0, 0, 0.15);\n",
              "      filter: drop-shadow(0px 1px 2px rgba(0, 0, 0, 0.3));\n",
              "      fill: #FFFFFF;\n",
              "    }\n",
              "  </style>\n",
              "\n",
              "      <script>\n",
              "        const buttonEl =\n",
              "          document.querySelector('#df-f1c93078-d0c3-48ca-9d2c-5e0ef3b62b45 button.colab-df-convert');\n",
              "        buttonEl.style.display =\n",
              "          google.colab.kernel.accessAllowed ? 'block' : 'none';\n",
              "\n",
              "        async function convertToInteractive(key) {\n",
              "          const element = document.querySelector('#df-f1c93078-d0c3-48ca-9d2c-5e0ef3b62b45');\n",
              "          const dataTable =\n",
              "            await google.colab.kernel.invokeFunction('convertToInteractive',\n",
              "                                                     [key], {});\n",
              "          if (!dataTable) return;\n",
              "\n",
              "          const docLinkHtml = 'Like what you see? Visit the ' +\n",
              "            '<a target=\"_blank\" href=https://colab.research.google.com/notebooks/data_table.ipynb>data table notebook</a>'\n",
              "            + ' to learn more about interactive tables.';\n",
              "          element.innerHTML = '';\n",
              "          dataTable['output_type'] = 'display_data';\n",
              "          await google.colab.output.renderOutput(dataTable, element);\n",
              "          const docLink = document.createElement('div');\n",
              "          docLink.innerHTML = docLinkHtml;\n",
              "          element.appendChild(docLink);\n",
              "        }\n",
              "      </script>\n",
              "    </div>\n",
              "  </div>\n",
              "  "
            ]
          },
          "metadata": {},
          "execution_count": 6
        }
      ]
    },
    {
      "cell_type": "code",
      "source": [
        "import pandas as pd\n",
        "import seaborn as sns\n",
        "import matplotlib.pyplot as plt\n",
        "import numpy as np\n",
        "import scipy.stats as stats"
      ],
      "metadata": {
        "id": "14TGZO6nkUXR"
      },
      "execution_count": null,
      "outputs": []
    },
    {
      "cell_type": "markdown",
      "source": [
        "# DROPPING UNWANTED COLUMNS"
      ],
      "metadata": {
        "id": "cMSHJljxtlQh"
      }
    },
    {
      "cell_type": "code",
      "source": [
        "data.drop(['S NO'] ,axis = 1 ,inplace = True)\n",
        "data.drop(['Start Date'] ,axis = 1 ,inplace = True)\n",
        "data.drop(['End Date'] ,axis = 1 ,inplace = True)\n",
        "data.drop(['Duration(Days)'] ,axis = 1 ,inplace = True)\n",
        "data.drop(['Main Cause'] ,axis = 1 ,inplace = True)\n",
        "data.drop(['Location'] ,axis = 1 ,inplace = True)\n",
        "data.drop(['Districts'] ,axis = 1 ,inplace = True)\n",
        "data.drop(['State'] ,axis = 1 ,inplace = True)"
      ],
      "metadata": {
        "id": "YwPWjHOTnpVL"
      },
      "execution_count": null,
      "outputs": []
    },
    {
      "cell_type": "code",
      "source": [
        "data"
      ],
      "metadata": {
        "colab": {
          "base_uri": "https://localhost:8080/",
          "height": 423
        },
        "id": "BIk-zNGcnpXk",
        "outputId": "d2570a3a-22a3-45cd-dec8-b242c83a312a"
      },
      "execution_count": null,
      "outputs": [
        {
          "output_type": "execute_result",
          "data": {
            "text/plain": [
              "           DTR  CWD      TN10P      TX10P FLOOD\n",
              "0    13.395041   79  19.308000  28.973000   YES\n",
              "1     8.443452   75  24.025041  32.095178   YES\n",
              "2     8.680247   48  25.670548  34.175945   YES\n",
              "3    13.395041   79  19.308000  28.973000   YES\n",
              "4    13.395041   79  19.308000  28.973000   YES\n",
              "..         ...  ...        ...        ...   ...\n",
              "141   8.732600   43  21.097534  31.511370    NO\n",
              "142   9.911370   36  16.739644  26.975507    NO\n",
              "143   8.954356   71  10.196986  19.890000    NO\n",
              "144   9.473507   42  20.326301  30.730521    NO\n",
              "145   9.961370   23  18.909589  28.859260    NO\n",
              "\n",
              "[146 rows x 5 columns]"
            ],
            "text/html": [
              "\n",
              "  <div id=\"df-54bed4f4-eb3c-482d-bc8a-ae4ff208e7ca\">\n",
              "    <div class=\"colab-df-container\">\n",
              "      <div>\n",
              "<style scoped>\n",
              "    .dataframe tbody tr th:only-of-type {\n",
              "        vertical-align: middle;\n",
              "    }\n",
              "\n",
              "    .dataframe tbody tr th {\n",
              "        vertical-align: top;\n",
              "    }\n",
              "\n",
              "    .dataframe thead th {\n",
              "        text-align: right;\n",
              "    }\n",
              "</style>\n",
              "<table border=\"1\" class=\"dataframe\">\n",
              "  <thead>\n",
              "    <tr style=\"text-align: right;\">\n",
              "      <th></th>\n",
              "      <th>DTR</th>\n",
              "      <th>CWD</th>\n",
              "      <th>TN10P</th>\n",
              "      <th>TX10P</th>\n",
              "      <th>FLOOD</th>\n",
              "    </tr>\n",
              "  </thead>\n",
              "  <tbody>\n",
              "    <tr>\n",
              "      <th>0</th>\n",
              "      <td>13.395041</td>\n",
              "      <td>79</td>\n",
              "      <td>19.308000</td>\n",
              "      <td>28.973000</td>\n",
              "      <td>YES</td>\n",
              "    </tr>\n",
              "    <tr>\n",
              "      <th>1</th>\n",
              "      <td>8.443452</td>\n",
              "      <td>75</td>\n",
              "      <td>24.025041</td>\n",
              "      <td>32.095178</td>\n",
              "      <td>YES</td>\n",
              "    </tr>\n",
              "    <tr>\n",
              "      <th>2</th>\n",
              "      <td>8.680247</td>\n",
              "      <td>48</td>\n",
              "      <td>25.670548</td>\n",
              "      <td>34.175945</td>\n",
              "      <td>YES</td>\n",
              "    </tr>\n",
              "    <tr>\n",
              "      <th>3</th>\n",
              "      <td>13.395041</td>\n",
              "      <td>79</td>\n",
              "      <td>19.308000</td>\n",
              "      <td>28.973000</td>\n",
              "      <td>YES</td>\n",
              "    </tr>\n",
              "    <tr>\n",
              "      <th>4</th>\n",
              "      <td>13.395041</td>\n",
              "      <td>79</td>\n",
              "      <td>19.308000</td>\n",
              "      <td>28.973000</td>\n",
              "      <td>YES</td>\n",
              "    </tr>\n",
              "    <tr>\n",
              "      <th>...</th>\n",
              "      <td>...</td>\n",
              "      <td>...</td>\n",
              "      <td>...</td>\n",
              "      <td>...</td>\n",
              "      <td>...</td>\n",
              "    </tr>\n",
              "    <tr>\n",
              "      <th>141</th>\n",
              "      <td>8.732600</td>\n",
              "      <td>43</td>\n",
              "      <td>21.097534</td>\n",
              "      <td>31.511370</td>\n",
              "      <td>NO</td>\n",
              "    </tr>\n",
              "    <tr>\n",
              "      <th>142</th>\n",
              "      <td>9.911370</td>\n",
              "      <td>36</td>\n",
              "      <td>16.739644</td>\n",
              "      <td>26.975507</td>\n",
              "      <td>NO</td>\n",
              "    </tr>\n",
              "    <tr>\n",
              "      <th>143</th>\n",
              "      <td>8.954356</td>\n",
              "      <td>71</td>\n",
              "      <td>10.196986</td>\n",
              "      <td>19.890000</td>\n",
              "      <td>NO</td>\n",
              "    </tr>\n",
              "    <tr>\n",
              "      <th>144</th>\n",
              "      <td>9.473507</td>\n",
              "      <td>42</td>\n",
              "      <td>20.326301</td>\n",
              "      <td>30.730521</td>\n",
              "      <td>NO</td>\n",
              "    </tr>\n",
              "    <tr>\n",
              "      <th>145</th>\n",
              "      <td>9.961370</td>\n",
              "      <td>23</td>\n",
              "      <td>18.909589</td>\n",
              "      <td>28.859260</td>\n",
              "      <td>NO</td>\n",
              "    </tr>\n",
              "  </tbody>\n",
              "</table>\n",
              "<p>146 rows × 5 columns</p>\n",
              "</div>\n",
              "      <button class=\"colab-df-convert\" onclick=\"convertToInteractive('df-54bed4f4-eb3c-482d-bc8a-ae4ff208e7ca')\"\n",
              "              title=\"Convert this dataframe to an interactive table.\"\n",
              "              style=\"display:none;\">\n",
              "        \n",
              "  <svg xmlns=\"http://www.w3.org/2000/svg\" height=\"24px\"viewBox=\"0 0 24 24\"\n",
              "       width=\"24px\">\n",
              "    <path d=\"M0 0h24v24H0V0z\" fill=\"none\"/>\n",
              "    <path d=\"M18.56 5.44l.94 2.06.94-2.06 2.06-.94-2.06-.94-.94-2.06-.94 2.06-2.06.94zm-11 1L8.5 8.5l.94-2.06 2.06-.94-2.06-.94L8.5 2.5l-.94 2.06-2.06.94zm10 10l.94 2.06.94-2.06 2.06-.94-2.06-.94-.94-2.06-.94 2.06-2.06.94z\"/><path d=\"M17.41 7.96l-1.37-1.37c-.4-.4-.92-.59-1.43-.59-.52 0-1.04.2-1.43.59L10.3 9.45l-7.72 7.72c-.78.78-.78 2.05 0 2.83L4 21.41c.39.39.9.59 1.41.59.51 0 1.02-.2 1.41-.59l7.78-7.78 2.81-2.81c.8-.78.8-2.07 0-2.86zM5.41 20L4 18.59l7.72-7.72 1.47 1.35L5.41 20z\"/>\n",
              "  </svg>\n",
              "      </button>\n",
              "      \n",
              "  <style>\n",
              "    .colab-df-container {\n",
              "      display:flex;\n",
              "      flex-wrap:wrap;\n",
              "      gap: 12px;\n",
              "    }\n",
              "\n",
              "    .colab-df-convert {\n",
              "      background-color: #E8F0FE;\n",
              "      border: none;\n",
              "      border-radius: 50%;\n",
              "      cursor: pointer;\n",
              "      display: none;\n",
              "      fill: #1967D2;\n",
              "      height: 32px;\n",
              "      padding: 0 0 0 0;\n",
              "      width: 32px;\n",
              "    }\n",
              "\n",
              "    .colab-df-convert:hover {\n",
              "      background-color: #E2EBFA;\n",
              "      box-shadow: 0px 1px 2px rgba(60, 64, 67, 0.3), 0px 1px 3px 1px rgba(60, 64, 67, 0.15);\n",
              "      fill: #174EA6;\n",
              "    }\n",
              "\n",
              "    [theme=dark] .colab-df-convert {\n",
              "      background-color: #3B4455;\n",
              "      fill: #D2E3FC;\n",
              "    }\n",
              "\n",
              "    [theme=dark] .colab-df-convert:hover {\n",
              "      background-color: #434B5C;\n",
              "      box-shadow: 0px 1px 3px 1px rgba(0, 0, 0, 0.15);\n",
              "      filter: drop-shadow(0px 1px 2px rgba(0, 0, 0, 0.3));\n",
              "      fill: #FFFFFF;\n",
              "    }\n",
              "  </style>\n",
              "\n",
              "      <script>\n",
              "        const buttonEl =\n",
              "          document.querySelector('#df-54bed4f4-eb3c-482d-bc8a-ae4ff208e7ca button.colab-df-convert');\n",
              "        buttonEl.style.display =\n",
              "          google.colab.kernel.accessAllowed ? 'block' : 'none';\n",
              "\n",
              "        async function convertToInteractive(key) {\n",
              "          const element = document.querySelector('#df-54bed4f4-eb3c-482d-bc8a-ae4ff208e7ca');\n",
              "          const dataTable =\n",
              "            await google.colab.kernel.invokeFunction('convertToInteractive',\n",
              "                                                     [key], {});\n",
              "          if (!dataTable) return;\n",
              "\n",
              "          const docLinkHtml = 'Like what you see? Visit the ' +\n",
              "            '<a target=\"_blank\" href=https://colab.research.google.com/notebooks/data_table.ipynb>data table notebook</a>'\n",
              "            + ' to learn more about interactive tables.';\n",
              "          element.innerHTML = '';\n",
              "          dataTable['output_type'] = 'display_data';\n",
              "          await google.colab.output.renderOutput(dataTable, element);\n",
              "          const docLink = document.createElement('div');\n",
              "          docLink.innerHTML = docLinkHtml;\n",
              "          element.appendChild(docLink);\n",
              "        }\n",
              "      </script>\n",
              "    </div>\n",
              "  </div>\n",
              "  "
            ]
          },
          "metadata": {},
          "execution_count": 9
        }
      ]
    },
    {
      "cell_type": "markdown",
      "source": [
        "# LABEL ENCODING"
      ],
      "metadata": {
        "id": "FojBO8xPtzvM"
      }
    },
    {
      "cell_type": "code",
      "source": [
        "# Import label encoder\n",
        "from sklearn import preprocessing\n",
        "\n",
        "# label_encoder object knows how to understand word labels.\n",
        "label_encoder = preprocessing.LabelEncoder()\n",
        "\n",
        "# Encode labels in column 'species'.\n",
        "data['FLOOD']= label_encoder.fit_transform(data['FLOOD'])\n",
        "\n",
        "data['FLOOD'].value_counts()\n",
        "\n",
        "## No Defect == \"1\" && Defect == \"0\""
      ],
      "metadata": {
        "colab": {
          "base_uri": "https://localhost:8080/"
        },
        "id": "h1BX6lFnnpZq",
        "outputId": "75e6d087-eaf6-4379-a29e-a7f4287a4c9a"
      },
      "execution_count": null,
      "outputs": [
        {
          "output_type": "execute_result",
          "data": {
            "text/plain": [
              "1    84\n",
              "0    62\n",
              "Name: FLOOD, dtype: int64"
            ]
          },
          "metadata": {},
          "execution_count": 11
        }
      ]
    },
    {
      "cell_type": "code",
      "source": [
        "data.describe()"
      ],
      "metadata": {
        "colab": {
          "base_uri": "https://localhost:8080/",
          "height": 300
        },
        "id": "1UzWXr_unpcO",
        "outputId": "6f32b5b4-1014-492c-a228-5618d71b57e2"
      },
      "execution_count": null,
      "outputs": [
        {
          "output_type": "execute_result",
          "data": {
            "text/plain": [
              "              DTR         CWD       TN10P       TX10P       FLOOD\n",
              "count  146.000000  146.000000  146.000000  146.000000  146.000000\n",
              "mean     9.808871   53.109589   22.288719   29.648605    0.575342\n",
              "std      2.503801   20.637804    3.179395    5.299533    0.495992\n",
              "min      1.184438    4.000000   10.196986    9.990800    0.000000\n",
              "25%      8.479863   35.250000   19.670000   28.973000    0.000000\n",
              "50%      8.977678   54.000000   23.173096   31.331507    1.000000\n",
              "75%     10.249123   68.000000   24.783151   32.805079    1.000000\n",
              "max     20.019671   87.000000   27.269000   35.382411    1.000000"
            ],
            "text/html": [
              "\n",
              "  <div id=\"df-767f81c1-47a0-4fb5-b9e9-01eb9f15b876\">\n",
              "    <div class=\"colab-df-container\">\n",
              "      <div>\n",
              "<style scoped>\n",
              "    .dataframe tbody tr th:only-of-type {\n",
              "        vertical-align: middle;\n",
              "    }\n",
              "\n",
              "    .dataframe tbody tr th {\n",
              "        vertical-align: top;\n",
              "    }\n",
              "\n",
              "    .dataframe thead th {\n",
              "        text-align: right;\n",
              "    }\n",
              "</style>\n",
              "<table border=\"1\" class=\"dataframe\">\n",
              "  <thead>\n",
              "    <tr style=\"text-align: right;\">\n",
              "      <th></th>\n",
              "      <th>DTR</th>\n",
              "      <th>CWD</th>\n",
              "      <th>TN10P</th>\n",
              "      <th>TX10P</th>\n",
              "      <th>FLOOD</th>\n",
              "    </tr>\n",
              "  </thead>\n",
              "  <tbody>\n",
              "    <tr>\n",
              "      <th>count</th>\n",
              "      <td>146.000000</td>\n",
              "      <td>146.000000</td>\n",
              "      <td>146.000000</td>\n",
              "      <td>146.000000</td>\n",
              "      <td>146.000000</td>\n",
              "    </tr>\n",
              "    <tr>\n",
              "      <th>mean</th>\n",
              "      <td>9.808871</td>\n",
              "      <td>53.109589</td>\n",
              "      <td>22.288719</td>\n",
              "      <td>29.648605</td>\n",
              "      <td>0.575342</td>\n",
              "    </tr>\n",
              "    <tr>\n",
              "      <th>std</th>\n",
              "      <td>2.503801</td>\n",
              "      <td>20.637804</td>\n",
              "      <td>3.179395</td>\n",
              "      <td>5.299533</td>\n",
              "      <td>0.495992</td>\n",
              "    </tr>\n",
              "    <tr>\n",
              "      <th>min</th>\n",
              "      <td>1.184438</td>\n",
              "      <td>4.000000</td>\n",
              "      <td>10.196986</td>\n",
              "      <td>9.990800</td>\n",
              "      <td>0.000000</td>\n",
              "    </tr>\n",
              "    <tr>\n",
              "      <th>25%</th>\n",
              "      <td>8.479863</td>\n",
              "      <td>35.250000</td>\n",
              "      <td>19.670000</td>\n",
              "      <td>28.973000</td>\n",
              "      <td>0.000000</td>\n",
              "    </tr>\n",
              "    <tr>\n",
              "      <th>50%</th>\n",
              "      <td>8.977678</td>\n",
              "      <td>54.000000</td>\n",
              "      <td>23.173096</td>\n",
              "      <td>31.331507</td>\n",
              "      <td>1.000000</td>\n",
              "    </tr>\n",
              "    <tr>\n",
              "      <th>75%</th>\n",
              "      <td>10.249123</td>\n",
              "      <td>68.000000</td>\n",
              "      <td>24.783151</td>\n",
              "      <td>32.805079</td>\n",
              "      <td>1.000000</td>\n",
              "    </tr>\n",
              "    <tr>\n",
              "      <th>max</th>\n",
              "      <td>20.019671</td>\n",
              "      <td>87.000000</td>\n",
              "      <td>27.269000</td>\n",
              "      <td>35.382411</td>\n",
              "      <td>1.000000</td>\n",
              "    </tr>\n",
              "  </tbody>\n",
              "</table>\n",
              "</div>\n",
              "      <button class=\"colab-df-convert\" onclick=\"convertToInteractive('df-767f81c1-47a0-4fb5-b9e9-01eb9f15b876')\"\n",
              "              title=\"Convert this dataframe to an interactive table.\"\n",
              "              style=\"display:none;\">\n",
              "        \n",
              "  <svg xmlns=\"http://www.w3.org/2000/svg\" height=\"24px\"viewBox=\"0 0 24 24\"\n",
              "       width=\"24px\">\n",
              "    <path d=\"M0 0h24v24H0V0z\" fill=\"none\"/>\n",
              "    <path d=\"M18.56 5.44l.94 2.06.94-2.06 2.06-.94-2.06-.94-.94-2.06-.94 2.06-2.06.94zm-11 1L8.5 8.5l.94-2.06 2.06-.94-2.06-.94L8.5 2.5l-.94 2.06-2.06.94zm10 10l.94 2.06.94-2.06 2.06-.94-2.06-.94-.94-2.06-.94 2.06-2.06.94z\"/><path d=\"M17.41 7.96l-1.37-1.37c-.4-.4-.92-.59-1.43-.59-.52 0-1.04.2-1.43.59L10.3 9.45l-7.72 7.72c-.78.78-.78 2.05 0 2.83L4 21.41c.39.39.9.59 1.41.59.51 0 1.02-.2 1.41-.59l7.78-7.78 2.81-2.81c.8-.78.8-2.07 0-2.86zM5.41 20L4 18.59l7.72-7.72 1.47 1.35L5.41 20z\"/>\n",
              "  </svg>\n",
              "      </button>\n",
              "      \n",
              "  <style>\n",
              "    .colab-df-container {\n",
              "      display:flex;\n",
              "      flex-wrap:wrap;\n",
              "      gap: 12px;\n",
              "    }\n",
              "\n",
              "    .colab-df-convert {\n",
              "      background-color: #E8F0FE;\n",
              "      border: none;\n",
              "      border-radius: 50%;\n",
              "      cursor: pointer;\n",
              "      display: none;\n",
              "      fill: #1967D2;\n",
              "      height: 32px;\n",
              "      padding: 0 0 0 0;\n",
              "      width: 32px;\n",
              "    }\n",
              "\n",
              "    .colab-df-convert:hover {\n",
              "      background-color: #E2EBFA;\n",
              "      box-shadow: 0px 1px 2px rgba(60, 64, 67, 0.3), 0px 1px 3px 1px rgba(60, 64, 67, 0.15);\n",
              "      fill: #174EA6;\n",
              "    }\n",
              "\n",
              "    [theme=dark] .colab-df-convert {\n",
              "      background-color: #3B4455;\n",
              "      fill: #D2E3FC;\n",
              "    }\n",
              "\n",
              "    [theme=dark] .colab-df-convert:hover {\n",
              "      background-color: #434B5C;\n",
              "      box-shadow: 0px 1px 3px 1px rgba(0, 0, 0, 0.15);\n",
              "      filter: drop-shadow(0px 1px 2px rgba(0, 0, 0, 0.3));\n",
              "      fill: #FFFFFF;\n",
              "    }\n",
              "  </style>\n",
              "\n",
              "      <script>\n",
              "        const buttonEl =\n",
              "          document.querySelector('#df-767f81c1-47a0-4fb5-b9e9-01eb9f15b876 button.colab-df-convert');\n",
              "        buttonEl.style.display =\n",
              "          google.colab.kernel.accessAllowed ? 'block' : 'none';\n",
              "\n",
              "        async function convertToInteractive(key) {\n",
              "          const element = document.querySelector('#df-767f81c1-47a0-4fb5-b9e9-01eb9f15b876');\n",
              "          const dataTable =\n",
              "            await google.colab.kernel.invokeFunction('convertToInteractive',\n",
              "                                                     [key], {});\n",
              "          if (!dataTable) return;\n",
              "\n",
              "          const docLinkHtml = 'Like what you see? Visit the ' +\n",
              "            '<a target=\"_blank\" href=https://colab.research.google.com/notebooks/data_table.ipynb>data table notebook</a>'\n",
              "            + ' to learn more about interactive tables.';\n",
              "          element.innerHTML = '';\n",
              "          dataTable['output_type'] = 'display_data';\n",
              "          await google.colab.output.renderOutput(dataTable, element);\n",
              "          const docLink = document.createElement('div');\n",
              "          docLink.innerHTML = docLinkHtml;\n",
              "          element.appendChild(docLink);\n",
              "        }\n",
              "      </script>\n",
              "    </div>\n",
              "  </div>\n",
              "  "
            ]
          },
          "metadata": {},
          "execution_count": 12
        }
      ]
    },
    {
      "cell_type": "markdown",
      "source": [
        "## CORRELATION AND P-VALUE"
      ],
      "metadata": {
        "id": "bBeqCBrZt42z"
      }
    },
    {
      "cell_type": "code",
      "source": [
        "x = data.corr()\n",
        "x"
      ],
      "metadata": {
        "colab": {
          "base_uri": "https://localhost:8080/",
          "height": 206
        },
        "id": "Nf5oY-5snpeu",
        "outputId": "e5092988-e8ff-408a-cb75-869074133183"
      },
      "execution_count": null,
      "outputs": [
        {
          "output_type": "execute_result",
          "data": {
            "text/plain": [
              "            DTR       CWD     TN10P     TX10P     FLOOD\n",
              "DTR    1.000000 -0.112740 -0.336833  0.040307 -0.199001\n",
              "CWD   -0.112740  1.000000 -0.187948 -0.005220  0.286876\n",
              "TN10P -0.336833 -0.187948  1.000000  0.108475  0.074922\n",
              "TX10P  0.040307 -0.005220  0.108475  1.000000  0.329144\n",
              "FLOOD -0.199001  0.286876  0.074922  0.329144  1.000000"
            ],
            "text/html": [
              "\n",
              "  <div id=\"df-61b29b24-a56b-4188-8183-2f0db4aab479\">\n",
              "    <div class=\"colab-df-container\">\n",
              "      <div>\n",
              "<style scoped>\n",
              "    .dataframe tbody tr th:only-of-type {\n",
              "        vertical-align: middle;\n",
              "    }\n",
              "\n",
              "    .dataframe tbody tr th {\n",
              "        vertical-align: top;\n",
              "    }\n",
              "\n",
              "    .dataframe thead th {\n",
              "        text-align: right;\n",
              "    }\n",
              "</style>\n",
              "<table border=\"1\" class=\"dataframe\">\n",
              "  <thead>\n",
              "    <tr style=\"text-align: right;\">\n",
              "      <th></th>\n",
              "      <th>DTR</th>\n",
              "      <th>CWD</th>\n",
              "      <th>TN10P</th>\n",
              "      <th>TX10P</th>\n",
              "      <th>FLOOD</th>\n",
              "    </tr>\n",
              "  </thead>\n",
              "  <tbody>\n",
              "    <tr>\n",
              "      <th>DTR</th>\n",
              "      <td>1.000000</td>\n",
              "      <td>-0.112740</td>\n",
              "      <td>-0.336833</td>\n",
              "      <td>0.040307</td>\n",
              "      <td>-0.199001</td>\n",
              "    </tr>\n",
              "    <tr>\n",
              "      <th>CWD</th>\n",
              "      <td>-0.112740</td>\n",
              "      <td>1.000000</td>\n",
              "      <td>-0.187948</td>\n",
              "      <td>-0.005220</td>\n",
              "      <td>0.286876</td>\n",
              "    </tr>\n",
              "    <tr>\n",
              "      <th>TN10P</th>\n",
              "      <td>-0.336833</td>\n",
              "      <td>-0.187948</td>\n",
              "      <td>1.000000</td>\n",
              "      <td>0.108475</td>\n",
              "      <td>0.074922</td>\n",
              "    </tr>\n",
              "    <tr>\n",
              "      <th>TX10P</th>\n",
              "      <td>0.040307</td>\n",
              "      <td>-0.005220</td>\n",
              "      <td>0.108475</td>\n",
              "      <td>1.000000</td>\n",
              "      <td>0.329144</td>\n",
              "    </tr>\n",
              "    <tr>\n",
              "      <th>FLOOD</th>\n",
              "      <td>-0.199001</td>\n",
              "      <td>0.286876</td>\n",
              "      <td>0.074922</td>\n",
              "      <td>0.329144</td>\n",
              "      <td>1.000000</td>\n",
              "    </tr>\n",
              "  </tbody>\n",
              "</table>\n",
              "</div>\n",
              "      <button class=\"colab-df-convert\" onclick=\"convertToInteractive('df-61b29b24-a56b-4188-8183-2f0db4aab479')\"\n",
              "              title=\"Convert this dataframe to an interactive table.\"\n",
              "              style=\"display:none;\">\n",
              "        \n",
              "  <svg xmlns=\"http://www.w3.org/2000/svg\" height=\"24px\"viewBox=\"0 0 24 24\"\n",
              "       width=\"24px\">\n",
              "    <path d=\"M0 0h24v24H0V0z\" fill=\"none\"/>\n",
              "    <path d=\"M18.56 5.44l.94 2.06.94-2.06 2.06-.94-2.06-.94-.94-2.06-.94 2.06-2.06.94zm-11 1L8.5 8.5l.94-2.06 2.06-.94-2.06-.94L8.5 2.5l-.94 2.06-2.06.94zm10 10l.94 2.06.94-2.06 2.06-.94-2.06-.94-.94-2.06-.94 2.06-2.06.94z\"/><path d=\"M17.41 7.96l-1.37-1.37c-.4-.4-.92-.59-1.43-.59-.52 0-1.04.2-1.43.59L10.3 9.45l-7.72 7.72c-.78.78-.78 2.05 0 2.83L4 21.41c.39.39.9.59 1.41.59.51 0 1.02-.2 1.41-.59l7.78-7.78 2.81-2.81c.8-.78.8-2.07 0-2.86zM5.41 20L4 18.59l7.72-7.72 1.47 1.35L5.41 20z\"/>\n",
              "  </svg>\n",
              "      </button>\n",
              "      \n",
              "  <style>\n",
              "    .colab-df-container {\n",
              "      display:flex;\n",
              "      flex-wrap:wrap;\n",
              "      gap: 12px;\n",
              "    }\n",
              "\n",
              "    .colab-df-convert {\n",
              "      background-color: #E8F0FE;\n",
              "      border: none;\n",
              "      border-radius: 50%;\n",
              "      cursor: pointer;\n",
              "      display: none;\n",
              "      fill: #1967D2;\n",
              "      height: 32px;\n",
              "      padding: 0 0 0 0;\n",
              "      width: 32px;\n",
              "    }\n",
              "\n",
              "    .colab-df-convert:hover {\n",
              "      background-color: #E2EBFA;\n",
              "      box-shadow: 0px 1px 2px rgba(60, 64, 67, 0.3), 0px 1px 3px 1px rgba(60, 64, 67, 0.15);\n",
              "      fill: #174EA6;\n",
              "    }\n",
              "\n",
              "    [theme=dark] .colab-df-convert {\n",
              "      background-color: #3B4455;\n",
              "      fill: #D2E3FC;\n",
              "    }\n",
              "\n",
              "    [theme=dark] .colab-df-convert:hover {\n",
              "      background-color: #434B5C;\n",
              "      box-shadow: 0px 1px 3px 1px rgba(0, 0, 0, 0.15);\n",
              "      filter: drop-shadow(0px 1px 2px rgba(0, 0, 0, 0.3));\n",
              "      fill: #FFFFFF;\n",
              "    }\n",
              "  </style>\n",
              "\n",
              "      <script>\n",
              "        const buttonEl =\n",
              "          document.querySelector('#df-61b29b24-a56b-4188-8183-2f0db4aab479 button.colab-df-convert');\n",
              "        buttonEl.style.display =\n",
              "          google.colab.kernel.accessAllowed ? 'block' : 'none';\n",
              "\n",
              "        async function convertToInteractive(key) {\n",
              "          const element = document.querySelector('#df-61b29b24-a56b-4188-8183-2f0db4aab479');\n",
              "          const dataTable =\n",
              "            await google.colab.kernel.invokeFunction('convertToInteractive',\n",
              "                                                     [key], {});\n",
              "          if (!dataTable) return;\n",
              "\n",
              "          const docLinkHtml = 'Like what you see? Visit the ' +\n",
              "            '<a target=\"_blank\" href=https://colab.research.google.com/notebooks/data_table.ipynb>data table notebook</a>'\n",
              "            + ' to learn more about interactive tables.';\n",
              "          element.innerHTML = '';\n",
              "          dataTable['output_type'] = 'display_data';\n",
              "          await google.colab.output.renderOutput(dataTable, element);\n",
              "          const docLink = document.createElement('div');\n",
              "          docLink.innerHTML = docLinkHtml;\n",
              "          element.appendChild(docLink);\n",
              "        }\n",
              "      </script>\n",
              "    </div>\n",
              "  </div>\n",
              "  "
            ]
          },
          "metadata": {},
          "execution_count": 13
        }
      ]
    },
    {
      "cell_type": "code",
      "source": [
        "sns.set(rc = {'figure.figsize' : (15,10)})\n",
        "dataplot = sns.heatmap(x,cmap =\"Blues\", annot=True)"
      ],
      "metadata": {
        "colab": {
          "base_uri": "https://localhost:8080/",
          "height": 598
        },
        "id": "X5f7RFe4v1jk",
        "outputId": "7b5c0887-5a21-4c79-af5a-ab93a0b7cdf9"
      },
      "execution_count": null,
      "outputs": [
        {
          "output_type": "display_data",
          "data": {
            "text/plain": [
              "<Figure size 1080x720 with 2 Axes>"
            ],
            "image/png": "[encoded data removed]"
          },
          "metadata": {}
        }
      ]
    },
    {
      "cell_type": "code",
      "source": [
        "tau, p_value = stats.kendalltau(data['DTR'], data['FLOOD'])\n",
        "print(f\"Kendall Rank correlation:%.5f\" %tau)\n",
        "print(f\"P VALUE: %.5f\" %p_value)"
      ],
      "metadata": {
        "colab": {
          "base_uri": "https://localhost:8080/"
        },
        "id": "e1fVsptmnphP",
        "outputId": "08fa2ac3-c28a-4f87-9e60-ccd1ab5924ff"
      },
      "execution_count": null,
      "outputs": [
        {
          "output_type": "stream",
          "name": "stdout",
          "text": [
            "Kendall Rank correlation:-0.18461\n",
            "P VALUE: 0.00715\n"
          ]
        }
      ]
    },
    {
      "cell_type": "code",
      "source": [
        "tau, p_value = stats.kendalltau(data['CWD'], data['FLOOD'])\n",
        "print(f\"Kendall Rank correlation:%.5f\" %tau)\n",
        "print(f\"P VALUE: %.5f\" %p_value)"
      ],
      "metadata": {
        "colab": {
          "base_uri": "https://localhost:8080/"
        },
        "id": "_gL9wt2Cnpj5",
        "outputId": "bcc0d75c-91c4-448d-e1a2-344f74caf820"
      },
      "execution_count": null,
      "outputs": [
        {
          "output_type": "stream",
          "name": "stdout",
          "text": [
            "Kendall Rank correlation:0.21379\n",
            "P VALUE: 0.00215\n"
          ]
        }
      ]
    },
    {
      "cell_type": "code",
      "source": [
        "tau, p_value = stats.kendalltau(data['TN10P'], data['FLOOD'])\n",
        "print(f\"Kendall Rank correlation:%.5f\" %tau)\n",
        "print(f\"P VALUE: %.5f\" %p_value)"
      ],
      "metadata": {
        "colab": {
          "base_uri": "https://localhost:8080/"
        },
        "id": "deNgrqvUnpmf",
        "outputId": "7cc234b3-4292-48a8-d5a8-8f76294a76b2"
      },
      "execution_count": null,
      "outputs": [
        {
          "output_type": "stream",
          "name": "stdout",
          "text": [
            "Kendall Rank correlation:0.08921\n",
            "P VALUE: 0.19678\n"
          ]
        }
      ]
    },
    {
      "cell_type": "code",
      "source": [
        "tau, p_value = stats.kendalltau(data['TX10P'], data['FLOOD'])\n",
        "print(f\"Kendall Rank correlation:%.5f\" %tau)\n",
        "print(f\"P VALUE: %.5f\" %p_value)"
      ],
      "metadata": {
        "colab": {
          "base_uri": "https://localhost:8080/"
        },
        "id": "6TCDuj-enpo4",
        "outputId": "3a69bfb3-bf07-49bc-953d-c1ce96b02feb"
      },
      "execution_count": null,
      "outputs": [
        {
          "output_type": "stream",
          "name": "stdout",
          "text": [
            "Kendall Rank correlation:0.16472\n",
            "P VALUE: 0.01739\n"
          ]
        }
      ]
    },
    {
      "cell_type": "markdown",
      "source": [
        "## *BOX-PLOTS AND OUTLIERS ANALYSIS*\n",
        "\n",
        "\n"
      ],
      "metadata": {
        "id": "R4NWP_2OwRaJ"
      }
    },
    {
      "cell_type": "code",
      "source": [
        "plt.figure(figsize=(40,40))\n",
        "plt.subplots_adjust(hspace=1)\n",
        "i=1\n",
        "for col_name in data.drop(columns=[\"FLOOD\"],axis=1).columns:\n",
        "    plt.subplot(5,10, i)\n",
        "    sns.boxplot(data=data, x='FLOOD', y=col_name)\n",
        "    i+=1"
      ],
      "metadata": {
        "colab": {
          "base_uri": "https://localhost:8080/",
          "height": 309
        },
        "id": "iNr_29DwwUHX",
        "outputId": "deb6d13a-2051-4a02-fe33-d88be4cc012c"
      },
      "execution_count": null,
      "outputs": [
        {
          "output_type": "display_data",
          "data": {
            "text/plain": [
              "<Figure size 2880x2880 with 4 Axes>"
            ],
            "image/png": "[encoded data removed]"
          },
          "metadata": {}
        }
      ]
    },
    {
      "cell_type": "markdown",
      "source": [
        "# TEST TRAIN SPLIT"
      ],
      "metadata": {
        "id": "ozUQoYgNuAJN"
      }
    },
    {
      "cell_type": "code",
      "source": [
        "from sklearn.model_selection import train_test_split\n",
        "X = data.drop(['FLOOD'],axis=1)\n",
        "y = data['FLOOD']\n",
        "X_train, X_test, y_train, y_test = train_test_split(X, y, test_size=0.2, random_state=100, shuffle=True)"
      ],
      "metadata": {
        "id": "DbXe-fONnprf"
      },
      "execution_count": null,
      "outputs": []
    },
    {
      "cell_type": "code",
      "source": [
        "y"
      ],
      "metadata": {
        "colab": {
          "base_uri": "https://localhost:8080/"
        },
        "id": "l5HjnM1knpt1",
        "outputId": "a3a117d0-3aef-48d4-8ac0-336bd53adad9"
      },
      "execution_count": null,
      "outputs": [
        {
          "output_type": "execute_result",
          "data": {
            "text/plain": [
              "0      1\n",
              "1      1\n",
              "2      1\n",
              "3      1\n",
              "4      1\n",
              "      ..\n",
              "141    0\n",
              "142    0\n",
              "143    0\n",
              "144    0\n",
              "145    0\n",
              "Name: FLOOD, Length: 146, dtype: int64"
            ]
          },
          "metadata": {},
          "execution_count": 22
        }
      ]
    },
    {
      "cell_type": "code",
      "source": [
        "# importing modules\n",
        "from sklearn.model_selection import cross_val_score\n",
        "from sklearn.naive_bayes import GaussianNB\n",
        "from sklearn.linear_model import LogisticRegression\n",
        "from sklearn import tree\n",
        "from sklearn.neighbors import KNeighborsClassifier\n",
        "from sklearn.ensemble import RandomForestClassifier\n",
        "from sklearn.svm import SVC\n",
        "from sklearn.model_selection import KFold\n",
        "\n",
        "# metric \n",
        "from sklearn.metrics import confusion_matrix, classification_report"
      ],
      "metadata": {
        "id": "97Vjp0XFnpwq"
      },
      "execution_count": null,
      "outputs": []
    },
    {
      "cell_type": "markdown",
      "source": [
        "# STANDARDIZATION "
      ],
      "metadata": {
        "id": "KWXyazOQubMt"
      }
    },
    {
      "cell_type": "code",
      "source": [
        "# importing libraries\n",
        "from sklearn.preprocessing import StandardScaler, QuantileTransformer, RobustScaler\n",
        "\n",
        "# Standard Scalar \n",
        "sscaler = StandardScaler()\n",
        "X_train_ss = sscaler.fit_transform(X_train)\n",
        "X_test_ss = sscaler.transform(X_test)\n",
        "\n",
        "# Quantile Transformer \n",
        "qscaler = QuantileTransformer(n_quantiles=100, random_state=43, output_distribution='normal')\n",
        "X_train_qf = qscaler.fit_transform(X_train)\n",
        "X_test_qf = qscaler.transform(X_test)\n",
        "\n",
        "# Robust Scalar\n",
        "rscaler = RobustScaler(with_scaling=True)\n",
        "X_train_rs = rscaler.fit_transform(X_train)\n",
        "X_test_rs = rscaler.transform(X_test)"
      ],
      "metadata": {
        "id": "nCK30UCEnpzG"
      },
      "execution_count": null,
      "outputs": []
    },
    {
      "cell_type": "markdown",
      "source": [
        "# Fitting Models on both real data and SMOTE generated data"
      ],
      "metadata": {
        "id": "6f3xdS3wukag"
      }
    },
    {
      "cell_type": "code",
      "source": [
        "from sklearn.metrics import confusion_matrix, accuracy_score\n",
        "logistic_model = LogisticRegression()\n",
        "logistic_model.fit(X_train, y_train)\n",
        "y_pred = logistic_model.predict(X_test)\n",
        "\n",
        "accuracy = accuracy_score(y_test,y_pred)*100\n",
        "confusion_mat = confusion_matrix(y_test,y_pred)\n",
        "\n",
        "print(\"Accuracy is\",accuracy)\n",
        "print(\"Confusion Matrix\")\n",
        "print(confusion_mat)"
      ],
      "metadata": {
        "colab": {
          "base_uri": "https://localhost:8080/"
        },
        "id": "tNrOVkWdnp2A",
        "outputId": "769fadd3-c6b3-4e4d-ad55-fb14dc4edf5b"
      },
      "execution_count": null,
      "outputs": [
        {
          "output_type": "stream",
          "name": "stdout",
          "text": [
            "Accuracy is 76.66666666666667\n",
            "Confusion Matrix\n",
            "[[ 7  6]\n",
            " [ 1 16]]\n"
          ]
        }
      ]
    },
    {
      "cell_type": "code",
      "source": [
        "## Standard Scaler\n",
        "from sklearn.metrics import confusion_matrix, accuracy_score\n",
        "logistic_model = LogisticRegression()\n",
        "logistic_model.fit(X_train_ss, y_train)\n",
        "y_pred = logistic_model.predict(X_test_ss)\n",
        "\n",
        "accuracy = accuracy_score(y_test,y_pred)*100\n",
        "confusion_mat = confusion_matrix(y_test,y_pred)\n",
        "\n",
        "print(\"Accuracy is\",accuracy)\n",
        "print(\"Confusion Matrix\")\n",
        "print(confusion_mat)"
      ],
      "metadata": {
        "colab": {
          "base_uri": "https://localhost:8080/"
        },
        "id": "52OjT2M8np4p",
        "outputId": "b7bc7454-293f-4176-df0c-ae095a1d22a2"
      },
      "execution_count": null,
      "outputs": [
        {
          "output_type": "stream",
          "name": "stdout",
          "text": [
            "Accuracy is 76.66666666666667\n",
            "Confusion Matrix\n",
            "[[ 7  6]\n",
            " [ 1 16]]\n"
          ]
        }
      ]
    },
    {
      "cell_type": "code",
      "source": [
        "## Quantile Scaler\n",
        "from sklearn.metrics import confusion_matrix, accuracy_score\n",
        "logistic_model = LogisticRegression()\n",
        "logistic_model.fit(X_train_qf, y_train)\n",
        "y_pred = logistic_model.predict(X_test_qf)\n",
        "\n",
        "accuracy = accuracy_score(y_test,y_pred)*100\n",
        "confusion_mat = confusion_matrix(y_test,y_pred)\n",
        "\n",
        "print(\"Accuracy is\",accuracy)\n",
        "print(\"Confusion Matrix\")\n",
        "print(confusion_mat)"
      ],
      "metadata": {
        "colab": {
          "base_uri": "https://localhost:8080/"
        },
        "id": "1QpbVHzLnp7L",
        "outputId": "9fcda6f4-be60-4927-f166-b780060fd285"
      },
      "execution_count": null,
      "outputs": [
        {
          "output_type": "stream",
          "name": "stdout",
          "text": [
            "Accuracy is 70.0\n",
            "Confusion Matrix\n",
            "[[ 6  7]\n",
            " [ 2 15]]\n"
          ]
        }
      ]
    },
    {
      "cell_type": "markdown",
      "source": [
        "# LOGISTIC REGRESSION (OPTUNA)"
      ],
      "metadata": {
        "id": "gbXBF_-vw5XU"
      }
    },
    {
      "cell_type": "code",
      "source": [
        "pip install optuna"
      ],
      "metadata": {
        "colab": {
          "base_uri": "https://localhost:8080/"
        },
        "id": "M5IvcFHkxD25",
        "outputId": "0d86b78a-4670-4c3d-ca18-ffc23f99f467"
      },
      "execution_count": null,
      "outputs": [
        {
          "output_type": "stream",
          "name": "stdout",
          "text": [
            "Looking in indexes: https://pypi.org/simple, https://us-python.pkg.dev/colab-wheels/public/simple/\n",
            "Collecting optuna\n",
            "  Downloading optuna-3.1.0-py3-none-any.whl (365 kB)\n",
            "\u001b[2K     \u001b[90m━━━━━━━━━━━━━━━━━━━━━━━━━━━━━━━━━━━━━━━\u001b[0m \u001b[32m365.3/365.3 KB\u001b[0m \u001b[31m6.8 MB/s\u001b[0m eta \u001b[36m0:00:00\u001b[0m\n",
            "\u001b[?25hCollecting cmaes>=0.9.1\n",
            "  Downloading cmaes-0.9.1-py3-none-any.whl (21 kB)\n",
            "Requirement already satisfied: sqlalchemy>=1.3.0 in /usr/local/lib/python3.8/dist-packages (from optuna) (1.4.46)\n",
            "Requirement already satisfied: numpy in /usr/local/lib/python3.8/dist-packages (from optuna) (1.21.6)\n",
            "Collecting colorlog\n",
            "  Downloading colorlog-6.7.0-py2.py3-none-any.whl (11 kB)\n",
            "Requirement already satisfied: tqdm in /usr/local/lib/python3.8/dist-packages (from optuna) (4.64.1)\n",
            "Requirement already satisfied: PyYAML in /usr/local/lib/python3.8/dist-packages (from optuna) (6.0)\n",
            "Requirement already satisfied: packaging>=20.0 in /usr/local/lib/python3.8/dist-packages (from optuna) (21.3)\n",
            "Collecting alembic>=1.5.0\n",
            "  Downloading alembic-1.9.2-py3-none-any.whl (210 kB)\n",
            "\u001b[2K     \u001b[90m━━━━━━━━━━━━━━━━━━━━━━━━━━━━━━━━━━━━━━\u001b[0m \u001b[32m210.6/210.6 KB\u001b[0m \u001b[31m22.8 MB/s\u001b[0m eta \u001b[36m0:00:00\u001b[0m\n",
            "\u001b[?25hCollecting Mako\n",
            "  Downloading Mako-1.2.4-py3-none-any.whl (78 kB)\n",
            "\u001b[2K     \u001b[90m━━━━━━━━━━━━━━━━━━━━━━━━━━━━━━━━━━━━━━━━\u001b[0m \u001b[32m78.7/78.7 KB\u001b[0m \u001b[31m9.5 MB/s\u001b[0m eta \u001b[36m0:00:00\u001b[0m\n",
            "\u001b[?25hRequirement already satisfied: importlib-resources in /usr/local/lib/python3.8/dist-packages (from alembic>=1.5.0->optuna) (5.10.2)\n",
            "Requirement already satisfied: importlib-metadata in /usr/local/lib/python3.8/dist-packages (from alembic>=1.5.0->optuna) (6.0.0)\n",
            "Requirement already satisfied: pyparsing!=3.0.5,>=2.0.2 in /usr/local/lib/python3.8/dist-packages (from packaging>=20.0->optuna) (3.0.9)\n",
            "Requirement already satisfied: greenlet!=0.4.17 in /usr/local/lib/python3.8/dist-packages (from sqlalchemy>=1.3.0->optuna) (2.0.1)\n",
            "Requirement already satisfied: zipp>=0.5 in /usr/local/lib/python3.8/dist-packages (from importlib-metadata->alembic>=1.5.0->optuna) (3.11.0)\n",
            "Requirement already satisfied: MarkupSafe>=0.9.2 in /usr/local/lib/python3.8/dist-packages (from Mako->alembic>=1.5.0->optuna) (2.0.1)\n",
            "Installing collected packages: Mako, colorlog, cmaes, alembic, optuna\n",
            "Successfully installed Mako-1.2.4 alembic-1.9.2 cmaes-0.9.1 colorlog-6.7.0 optuna-3.1.0\n"
          ]
        }
      ]
    },
    {
      "cell_type": "code",
      "source": [
        "from sklearn.metrics import accuracy_score, roc_auc_score\n",
        "from scipy.stats import skew\n",
        "from sklearn.model_selection import KFold, cross_val_score\n",
        "\n",
        "import optuna"
      ],
      "metadata": {
        "id": "xFdPOysVw-tv"
      },
      "execution_count": null,
      "outputs": []
    },
    {
      "cell_type": "code",
      "source": [
        "models = {\n",
        "    'logistic regression' : LogisticRegression()\n",
        "}"
      ],
      "metadata": {
        "id": "9b04n2vQw-wo"
      },
      "execution_count": null,
      "outputs": []
    },
    {
      "cell_type": "code",
      "source": [
        "for name, model in models.items():\n",
        "    model.fit(X_train,y_train)\n",
        "    print(f'{name} trained')"
      ],
      "metadata": {
        "colab": {
          "base_uri": "https://localhost:8080/"
        },
        "id": "MDmk1ICRw-zi",
        "outputId": "693edfc4-99f2-4cb3-809c-ebb73e09eb78"
      },
      "execution_count": null,
      "outputs": [
        {
          "output_type": "stream",
          "name": "stdout",
          "text": [
            "logistic regression trained\n"
          ]
        }
      ]
    },
    {
      "cell_type": "code",
      "source": [
        "results = {}\n",
        "\n",
        "kf = KFold(n_splits= 10)\n",
        "\n",
        "for name, model in models.items():\n",
        "    result = cross_val_score(model, X_train, y_train, scoring= 'roc_auc', cv= kf)\n",
        "    results[name] = result"
      ],
      "metadata": {
        "id": "tmWCNkInxWrj"
      },
      "execution_count": null,
      "outputs": []
    },
    {
      "cell_type": "code",
      "source": [
        "for name, result in results.items():\n",
        "    print(\"----------------\")\n",
        "    print(f'{name} : {np.mean(result)}')"
      ],
      "metadata": {
        "colab": {
          "base_uri": "https://localhost:8080/"
        },
        "id": "jKwervm3xWud",
        "outputId": "987b3a62-74db-48cf-875d-f2fd341ad2e9"
      },
      "execution_count": null,
      "outputs": [
        {
          "output_type": "stream",
          "name": "stdout",
          "text": [
            "----------------\n",
            "logistic regression : 0.7317559523809524\n"
          ]
        }
      ]
    },
    {
      "cell_type": "code",
      "source": [
        "def lr_objective(trial):\n",
        "    tol = trial.suggest_loguniform('tol', 1e-7, 0.1)\n",
        "    C = trial.suggest_float('C', 0, 0.1)\n",
        "    max_iter = trial.suggest_int('max_iter', 50, 600)\n",
        "\n",
        "    model = LogisticRegression(\n",
        "        solver= 'liblinear',\n",
        "        penalty= 'l1',\n",
        "        tol= tol,\n",
        "        C= C,\n",
        "        max_iter= max_iter\n",
        "    )\n",
        "\n",
        "    model.fit(X_train,y_train)\n",
        "    cv_score = cross_val_score(model, X_train,y_train, scoring= 'roc_auc', cv= kf)\n",
        "\n",
        "    return np.mean(cv_score)"
      ],
      "metadata": {
        "id": "aFi8xbfexWxm"
      },
      "execution_count": null,
      "outputs": []
    },
    {
      "cell_type": "code",
      "source": [
        "study = optuna.create_study(direction= 'maximize')\n",
        "study.optimize(lr_objective, n_trials= 30)"
      ],
      "metadata": {
        "colab": {
          "base_uri": "https://localhost:8080/"
        },
        "id": "D64vH-opxW0m",
        "outputId": "fb9e16ed-e45c-4416-ff99-32bb5410781f"
      },
      "execution_count": null,
      "outputs": [
        {
          "output_type": "stream",
          "name": "stderr",
          "text": [
            "\u001b[32m[I 2023-01-23 17:56:34,980]\u001b[0m A new study created in memory with name: no-name-9f2a8542-aa3c-44e6-a457-192160c0af8e\u001b[0m\n",
            "<ipython-input-57-e86b8813fd7f>:2: FutureWarning: suggest_loguniform has been deprecated in v3.0.0. This feature will be removed in v6.0.0. See https://github.com/optuna/optuna/releases/tag/v3.0.0. Use :func:`~optuna.trial.Trial.suggest_float` instead.\n",
            "  tol = trial.suggest_loguniform('tol', 1e-7, 0.1)\n",
            "\u001b[32m[I 2023-01-23 17:56:35,112]\u001b[0m Trial 0 finished with value: 0.7387499999999999 and parameters: {'tol': 0.0023549470741415636, 'C': 0.09736013839173097, 'max_iter': 338}. Best is trial 0 with value: 0.7387499999999999.\u001b[0m\n",
            "<ipython-input-57-e86b8813fd7f>:2: FutureWarning: suggest_loguniform has been deprecated in v3.0.0. This feature will be removed in v6.0.0. See https://github.com/optuna/optuna/releases/tag/v3.0.0. Use :func:`~optuna.trial.Trial.suggest_float` instead.\n",
            "  tol = trial.suggest_loguniform('tol', 1e-7, 0.1)\n",
            "\u001b[32m[I 2023-01-23 17:56:35,251]\u001b[0m Trial 1 finished with value: 0.6988541666666667 and parameters: {'tol': 6.791942413373233e-07, 'C': 0.007373393891370705, 'max_iter': 205}. Best is trial 0 with value: 0.7387499999999999.\u001b[0m\n",
            "<ipython-input-57-e86b8813fd7f>:2: FutureWarning: suggest_loguniform has been deprecated in v3.0.0. This feature will be removed in v6.0.0. See https://github.com/optuna/optuna/releases/tag/v3.0.0. Use :func:`~optuna.trial.Trial.suggest_float` instead.\n",
            "  tol = trial.suggest_loguniform('tol', 1e-7, 0.1)\n",
            "\u001b[32m[I 2023-01-23 17:56:35,382]\u001b[0m Trial 2 finished with value: 0.7239880952380953 and parameters: {'tol': 3.025776610693925e-07, 'C': 0.06334853251889709, 'max_iter': 204}. Best is trial 0 with value: 0.7387499999999999.\u001b[0m\n",
            "<ipython-input-57-e86b8813fd7f>:2: FutureWarning: suggest_loguniform has been deprecated in v3.0.0. This feature will be removed in v6.0.0. See https://github.com/optuna/optuna/releases/tag/v3.0.0. Use :func:`~optuna.trial.Trial.suggest_float` instead.\n",
            "  tol = trial.suggest_loguniform('tol', 1e-7, 0.1)\n",
            "\u001b[32m[I 2023-01-23 17:56:35,538]\u001b[0m Trial 3 finished with value: 0.7239880952380953 and parameters: {'tol': 0.06511503347090146, 'C': 0.06858954969058177, 'max_iter': 104}. Best is trial 0 with value: 0.7387499999999999.\u001b[0m\n",
            "<ipython-input-57-e86b8813fd7f>:2: FutureWarning: suggest_loguniform has been deprecated in v3.0.0. This feature will be removed in v6.0.0. See https://github.com/optuna/optuna/releases/tag/v3.0.0. Use :func:`~optuna.trial.Trial.suggest_float` instead.\n",
            "  tol = trial.suggest_loguniform('tol', 1e-7, 0.1)\n",
            "\u001b[32m[I 2023-01-23 17:56:35,667]\u001b[0m Trial 4 finished with value: 0.6988541666666667 and parameters: {'tol': 0.028440665474758632, 'C': 0.006052943536324651, 'max_iter': 209}. Best is trial 0 with value: 0.7387499999999999.\u001b[0m\n",
            "<ipython-input-57-e86b8813fd7f>:2: FutureWarning: suggest_loguniform has been deprecated in v3.0.0. This feature will be removed in v6.0.0. See https://github.com/optuna/optuna/releases/tag/v3.0.0. Use :func:`~optuna.trial.Trial.suggest_float` instead.\n",
            "  tol = trial.suggest_loguniform('tol', 1e-7, 0.1)\n",
            "\u001b[32m[I 2023-01-23 17:56:35,844]\u001b[0m Trial 5 finished with value: 0.6776785714285715 and parameters: {'tol': 0.08096814788787189, 'C': 0.03996332661578779, 'max_iter': 243}. Best is trial 0 with value: 0.7387499999999999.\u001b[0m\n",
            "<ipython-input-57-e86b8813fd7f>:2: FutureWarning: suggest_loguniform has been deprecated in v3.0.0. This feature will be removed in v6.0.0. See https://github.com/optuna/optuna/releases/tag/v3.0.0. Use :func:`~optuna.trial.Trial.suggest_float` instead.\n",
            "  tol = trial.suggest_loguniform('tol', 1e-7, 0.1)\n",
            "\u001b[32m[I 2023-01-23 17:56:35,986]\u001b[0m Trial 6 finished with value: 0.7220238095238095 and parameters: {'tol': 3.584156876202114e-06, 'C': 0.05073940599166084, 'max_iter': 194}. Best is trial 0 with value: 0.7387499999999999.\u001b[0m\n",
            "<ipython-input-57-e86b8813fd7f>:2: FutureWarning: suggest_loguniform has been deprecated in v3.0.0. This feature will be removed in v6.0.0. See https://github.com/optuna/optuna/releases/tag/v3.0.0. Use :func:`~optuna.trial.Trial.suggest_float` instead.\n",
            "  tol = trial.suggest_loguniform('tol', 1e-7, 0.1)\n",
            "\u001b[32m[I 2023-01-23 17:56:36,144]\u001b[0m Trial 7 finished with value: 0.7220238095238095 and parameters: {'tol': 1.166433232459391e-07, 'C': 0.04972422892264873, 'max_iter': 82}. Best is trial 0 with value: 0.7387499999999999.\u001b[0m\n",
            "<ipython-input-57-e86b8813fd7f>:2: FutureWarning: suggest_loguniform has been deprecated in v3.0.0. This feature will be removed in v6.0.0. See https://github.com/optuna/optuna/releases/tag/v3.0.0. Use :func:`~optuna.trial.Trial.suggest_float` instead.\n",
            "  tol = trial.suggest_loguniform('tol', 1e-7, 0.1)\n",
            "\u001b[32m[I 2023-01-23 17:56:36,268]\u001b[0m Trial 8 finished with value: 0.7095833333333333 and parameters: {'tol': 1.8149176961951686e-07, 'C': 0.04241197206670521, 'max_iter': 173}. Best is trial 0 with value: 0.7387499999999999.\u001b[0m\n",
            "<ipython-input-57-e86b8813fd7f>:2: FutureWarning: suggest_loguniform has been deprecated in v3.0.0. This feature will be removed in v6.0.0. See https://github.com/optuna/optuna/releases/tag/v3.0.0. Use :func:`~optuna.trial.Trial.suggest_float` instead.\n",
            "  tol = trial.suggest_loguniform('tol', 1e-7, 0.1)\n",
            "\u001b[32m[I 2023-01-23 17:56:36,501]\u001b[0m Trial 9 finished with value: 0.7220238095238095 and parameters: {'tol': 2.473356027830697e-06, 'C': 0.05315359325183312, 'max_iter': 423}. Best is trial 0 with value: 0.7387499999999999.\u001b[0m\n",
            "<ipython-input-57-e86b8813fd7f>:2: FutureWarning: suggest_loguniform has been deprecated in v3.0.0. This feature will be removed in v6.0.0. See https://github.com/optuna/optuna/releases/tag/v3.0.0. Use :func:`~optuna.trial.Trial.suggest_float` instead.\n",
            "  tol = trial.suggest_loguniform('tol', 1e-7, 0.1)\n",
            "\u001b[32m[I 2023-01-23 17:56:36,696]\u001b[0m Trial 10 finished with value: 0.7387499999999999 and parameters: {'tol': 0.0012485560050031733, 'C': 0.09669053575126471, 'max_iter': 592}. Best is trial 0 with value: 0.7387499999999999.\u001b[0m\n",
            "<ipython-input-57-e86b8813fd7f>:2: FutureWarning: suggest_loguniform has been deprecated in v3.0.0. This feature will be removed in v6.0.0. See https://github.com/optuna/optuna/releases/tag/v3.0.0. Use :func:`~optuna.trial.Trial.suggest_float` instead.\n",
            "  tol = trial.suggest_loguniform('tol', 1e-7, 0.1)\n",
            "\u001b[32m[I 2023-01-23 17:56:36,871]\u001b[0m Trial 11 finished with value: 0.7387499999999999 and parameters: {'tol': 0.0017391563058600375, 'C': 0.0975959818067175, 'max_iter': 596}. Best is trial 0 with value: 0.7387499999999999.\u001b[0m\n",
            "<ipython-input-57-e86b8813fd7f>:2: FutureWarning: suggest_loguniform has been deprecated in v3.0.0. This feature will be removed in v6.0.0. See https://github.com/optuna/optuna/releases/tag/v3.0.0. Use :func:`~optuna.trial.Trial.suggest_float` instead.\n",
            "  tol = trial.suggest_loguniform('tol', 1e-7, 0.1)\n",
            "\u001b[32m[I 2023-01-23 17:56:37,031]\u001b[0m Trial 12 finished with value: 0.7387499999999999 and parameters: {'tol': 0.00047679383116525786, 'C': 0.09164294985165267, 'max_iter': 426}. Best is trial 0 with value: 0.7387499999999999.\u001b[0m\n",
            "<ipython-input-57-e86b8813fd7f>:2: FutureWarning: suggest_loguniform has been deprecated in v3.0.0. This feature will be removed in v6.0.0. See https://github.com/optuna/optuna/releases/tag/v3.0.0. Use :func:`~optuna.trial.Trial.suggest_float` instead.\n",
            "  tol = trial.suggest_loguniform('tol', 1e-7, 0.1)\n",
            "\u001b[32m[I 2023-01-23 17:56:37,185]\u001b[0m Trial 13 finished with value: 0.7387499999999999 and parameters: {'tol': 0.002712272532775391, 'C': 0.08456927483533482, 'max_iter': 599}. Best is trial 0 with value: 0.7387499999999999.\u001b[0m\n",
            "<ipython-input-57-e86b8813fd7f>:2: FutureWarning: suggest_loguniform has been deprecated in v3.0.0. This feature will be removed in v6.0.0. See https://github.com/optuna/optuna/releases/tag/v3.0.0. Use :func:`~optuna.trial.Trial.suggest_float` instead.\n",
            "  tol = trial.suggest_loguniform('tol', 1e-7, 0.1)\n",
            "\u001b[32m[I 2023-01-23 17:56:37,352]\u001b[0m Trial 14 finished with value: 0.7387499999999999 and parameters: {'tol': 0.00012542685863613448, 'C': 0.0809115180989657, 'max_iter': 469}. Best is trial 0 with value: 0.7387499999999999.\u001b[0m\n",
            "<ipython-input-57-e86b8813fd7f>:2: FutureWarning: suggest_loguniform has been deprecated in v3.0.0. This feature will be removed in v6.0.0. See https://github.com/optuna/optuna/releases/tag/v3.0.0. Use :func:`~optuna.trial.Trial.suggest_float` instead.\n",
            "  tol = trial.suggest_loguniform('tol', 1e-7, 0.1)\n",
            "\u001b[32m[I 2023-01-23 17:56:37,446]\u001b[0m Trial 15 finished with value: 0.7416071428571428 and parameters: {'tol': 0.007109912645869769, 'C': 0.0998365116706618, 'max_iter': 337}. Best is trial 15 with value: 0.7416071428571428.\u001b[0m\n",
            "<ipython-input-57-e86b8813fd7f>:2: FutureWarning: suggest_loguniform has been deprecated in v3.0.0. This feature will be removed in v6.0.0. See https://github.com/optuna/optuna/releases/tag/v3.0.0. Use :func:`~optuna.trial.Trial.suggest_float` instead.\n",
            "  tol = trial.suggest_loguniform('tol', 1e-7, 0.1)\n",
            "\u001b[32m[I 2023-01-23 17:56:37,528]\u001b[0m Trial 16 finished with value: 0.7416071428571428 and parameters: {'tol': 0.012660889368790113, 'C': 0.09911751595648546, 'max_iter': 312}. Best is trial 15 with value: 0.7416071428571428.\u001b[0m\n",
            "<ipython-input-57-e86b8813fd7f>:2: FutureWarning: suggest_loguniform has been deprecated in v3.0.0. This feature will be removed in v6.0.0. See https://github.com/optuna/optuna/releases/tag/v3.0.0. Use :func:`~optuna.trial.Trial.suggest_float` instead.\n",
            "  tol = trial.suggest_loguniform('tol', 1e-7, 0.1)\n",
            "\u001b[32m[I 2023-01-23 17:56:37,616]\u001b[0m Trial 17 finished with value: 0.7416071428571428 and parameters: {'tol': 0.011945341780950643, 'C': 0.08261347452524345, 'max_iter': 327}. Best is trial 15 with value: 0.7416071428571428.\u001b[0m\n",
            "<ipython-input-57-e86b8813fd7f>:2: FutureWarning: suggest_loguniform has been deprecated in v3.0.0. This feature will be removed in v6.0.0. See https://github.com/optuna/optuna/releases/tag/v3.0.0. Use :func:`~optuna.trial.Trial.suggest_float` instead.\n",
            "  tol = trial.suggest_loguniform('tol', 1e-7, 0.1)\n",
            "\u001b[32m[I 2023-01-23 17:56:37,704]\u001b[0m Trial 18 finished with value: 0.7416071428571428 and parameters: {'tol': 0.012126392274756145, 'C': 0.09990994310820583, 'max_iter': 379}. Best is trial 15 with value: 0.7416071428571428.\u001b[0m\n",
            "<ipython-input-57-e86b8813fd7f>:2: FutureWarning: suggest_loguniform has been deprecated in v3.0.0. This feature will be removed in v6.0.0. See https://github.com/optuna/optuna/releases/tag/v3.0.0. Use :func:`~optuna.trial.Trial.suggest_float` instead.\n",
            "  tol = trial.suggest_loguniform('tol', 1e-7, 0.1)\n",
            "\u001b[32m[I 2023-01-23 17:56:37,813]\u001b[0m Trial 19 finished with value: 0.7387499999999999 and parameters: {'tol': 0.008883052765777388, 'C': 0.07248249132331624, 'max_iter': 275}. Best is trial 15 with value: 0.7416071428571428.\u001b[0m\n",
            "<ipython-input-57-e86b8813fd7f>:2: FutureWarning: suggest_loguniform has been deprecated in v3.0.0. This feature will be removed in v6.0.0. See https://github.com/optuna/optuna/releases/tag/v3.0.0. Use :func:`~optuna.trial.Trial.suggest_float` instead.\n",
            "  tol = trial.suggest_loguniform('tol', 1e-7, 0.1)\n",
            "\u001b[32m[I 2023-01-23 17:56:37,913]\u001b[0m Trial 20 finished with value: 0.7387499999999999 and parameters: {'tol': 0.00019677072600980582, 'C': 0.08730593993182946, 'max_iter': 514}. Best is trial 15 with value: 0.7416071428571428.\u001b[0m\n",
            "<ipython-input-57-e86b8813fd7f>:2: FutureWarning: suggest_loguniform has been deprecated in v3.0.0. This feature will be removed in v6.0.0. See https://github.com/optuna/optuna/releases/tag/v3.0.0. Use :func:`~optuna.trial.Trial.suggest_float` instead.\n",
            "  tol = trial.suggest_loguniform('tol', 1e-7, 0.1)\n",
            "\u001b[32m[I 2023-01-23 17:56:38,019]\u001b[0m Trial 21 finished with value: 0.7387499999999999 and parameters: {'tol': 0.009519014350589468, 'C': 0.08127126758247069, 'max_iter': 306}. Best is trial 15 with value: 0.7416071428571428.\u001b[0m\n",
            "<ipython-input-57-e86b8813fd7f>:2: FutureWarning: suggest_loguniform has been deprecated in v3.0.0. This feature will be removed in v6.0.0. See https://github.com/optuna/optuna/releases/tag/v3.0.0. Use :func:`~optuna.trial.Trial.suggest_float` instead.\n",
            "  tol = trial.suggest_loguniform('tol', 1e-7, 0.1)\n",
            "\u001b[32m[I 2023-01-23 17:56:38,104]\u001b[0m Trial 22 finished with value: 0.7382738095238095 and parameters: {'tol': 0.025560093370853628, 'C': 0.08511906929023848, 'max_iter': 342}. Best is trial 15 with value: 0.7416071428571428.\u001b[0m\n",
            "<ipython-input-57-e86b8813fd7f>:2: FutureWarning: suggest_loguniform has been deprecated in v3.0.0. This feature will be removed in v6.0.0. See https://github.com/optuna/optuna/releases/tag/v3.0.0. Use :func:`~optuna.trial.Trial.suggest_float` instead.\n",
            "  tol = trial.suggest_loguniform('tol', 1e-7, 0.1)\n",
            "\u001b[32m[I 2023-01-23 17:56:38,201]\u001b[0m Trial 23 finished with value: 0.7359523809523809 and parameters: {'tol': 0.0966133163967048, 'C': 0.08962897170515338, 'max_iter': 381}. Best is trial 15 with value: 0.7416071428571428.\u001b[0m\n",
            "<ipython-input-57-e86b8813fd7f>:2: FutureWarning: suggest_loguniform has been deprecated in v3.0.0. This feature will be removed in v6.0.0. See https://github.com/optuna/optuna/releases/tag/v3.0.0. Use :func:`~optuna.trial.Trial.suggest_float` instead.\n",
            "  tol = trial.suggest_loguniform('tol', 1e-7, 0.1)\n",
            "\u001b[32m[I 2023-01-23 17:56:38,296]\u001b[0m Trial 24 finished with value: 0.7387499999999999 and parameters: {'tol': 0.005453110269704478, 'C': 0.0991812694223811, 'max_iter': 286}. Best is trial 15 with value: 0.7416071428571428.\u001b[0m\n",
            "<ipython-input-57-e86b8813fd7f>:2: FutureWarning: suggest_loguniform has been deprecated in v3.0.0. This feature will be removed in v6.0.0. See https://github.com/optuna/optuna/releases/tag/v3.0.0. Use :func:`~optuna.trial.Trial.suggest_float` instead.\n",
            "  tol = trial.suggest_loguniform('tol', 1e-7, 0.1)\n",
            "\u001b[32m[I 2023-01-23 17:56:38,386]\u001b[0m Trial 25 finished with value: 0.7387499999999999 and parameters: {'tol': 0.00046614143367439993, 'C': 0.07751554368465904, 'max_iter': 388}. Best is trial 15 with value: 0.7416071428571428.\u001b[0m\n",
            "<ipython-input-57-e86b8813fd7f>:2: FutureWarning: suggest_loguniform has been deprecated in v3.0.0. This feature will be removed in v6.0.0. See https://github.com/optuna/optuna/releases/tag/v3.0.0. Use :func:`~optuna.trial.Trial.suggest_float` instead.\n",
            "  tol = trial.suggest_loguniform('tol', 1e-7, 0.1)\n",
            "\u001b[32m[I 2023-01-23 17:56:38,477]\u001b[0m Trial 26 finished with value: 0.7416071428571428 and parameters: {'tol': 0.025923341348163823, 'C': 0.09088653605585, 'max_iter': 137}. Best is trial 15 with value: 0.7416071428571428.\u001b[0m\n",
            "<ipython-input-57-e86b8813fd7f>:2: FutureWarning: suggest_loguniform has been deprecated in v3.0.0. This feature will be removed in v6.0.0. See https://github.com/optuna/optuna/releases/tag/v3.0.0. Use :func:`~optuna.trial.Trial.suggest_float` instead.\n",
            "  tol = trial.suggest_loguniform('tol', 1e-7, 0.1)\n",
            "\u001b[32m[I 2023-01-23 17:56:38,575]\u001b[0m Trial 27 finished with value: 0.7416071428571428 and parameters: {'tol': 0.004964264279985204, 'C': 0.07551332807493019, 'max_iter': 250}. Best is trial 15 with value: 0.7416071428571428.\u001b[0m\n",
            "<ipython-input-57-e86b8813fd7f>:2: FutureWarning: suggest_loguniform has been deprecated in v3.0.0. This feature will be removed in v6.0.0. See https://github.com/optuna/optuna/releases/tag/v3.0.0. Use :func:`~optuna.trial.Trial.suggest_float` instead.\n",
            "  tol = trial.suggest_loguniform('tol', 1e-7, 0.1)\n",
            "\u001b[32m[I 2023-01-23 17:56:38,672]\u001b[0m Trial 28 finished with value: 0.7387499999999999 and parameters: {'tol': 2.9055618823123856e-05, 'C': 0.0914336215139987, 'max_iter': 326}. Best is trial 15 with value: 0.7416071428571428.\u001b[0m\n",
            "<ipython-input-57-e86b8813fd7f>:2: FutureWarning: suggest_loguniform has been deprecated in v3.0.0. This feature will be removed in v6.0.0. See https://github.com/optuna/optuna/releases/tag/v3.0.0. Use :func:`~optuna.trial.Trial.suggest_float` instead.\n",
            "  tol = trial.suggest_loguniform('tol', 1e-7, 0.1)\n",
            "\u001b[32m[I 2023-01-23 17:56:38,763]\u001b[0m Trial 29 finished with value: 0.7387499999999999 and parameters: {'tol': 0.0020087235105753897, 'C': 0.09277199944699775, 'max_iter': 349}. Best is trial 15 with value: 0.7416071428571428.\u001b[0m\n"
          ]
        }
      ]
    },
    {
      "cell_type": "code",
      "source": [
        "best_params = study.best_params"
      ],
      "metadata": {
        "id": "5bVvqLj6xW4K"
      },
      "execution_count": null,
      "outputs": []
    },
    {
      "cell_type": "code",
      "source": [
        "lr = LogisticRegression(**best_params)\n",
        "lr.fit(X_train,y_train)\n",
        "y_test_pred_lr = lr.predict_proba(X_test)[:, 1]"
      ],
      "metadata": {
        "id": "2zpuhMTDw-3E"
      },
      "execution_count": null,
      "outputs": []
    },
    {
      "cell_type": "markdown",
      "source": [
        "# Decision Tree"
      ],
      "metadata": {
        "id": "RjVvJumNutpX"
      }
    },
    {
      "cell_type": "code",
      "source": [
        "from sklearn.tree import DecisionTreeClassifier\n",
        "classifier = DecisionTreeClassifier()\n",
        "classifier.fit(X_train, y_train)\n",
        "y_pred = classifier.predict(X_test)\n",
        "from sklearn.metrics import classification_report, confusion_matrix\n",
        "print(confusion_matrix(y_test, y_pred))\n",
        "print(classification_report(y_test, y_pred))\n",
        "accuracy = accuracy_score(y_test,y_pred)*100\n",
        "print(\"Accuracy is\",accuracy)"
      ],
      "metadata": {
        "colab": {
          "base_uri": "https://localhost:8080/"
        },
        "id": "8GJq9o4Enp9_",
        "outputId": "b3197e04-8859-4657-fec9-d5109cc42581"
      },
      "execution_count": null,
      "outputs": [
        {
          "output_type": "stream",
          "name": "stdout",
          "text": [
            "[[10  3]\n",
            " [ 1 16]]\n",
            "              precision    recall  f1-score   support\n",
            "\n",
            "           0       0.91      0.77      0.83        13\n",
            "           1       0.84      0.94      0.89        17\n",
            "\n",
            "    accuracy                           0.87        30\n",
            "   macro avg       0.88      0.86      0.86        30\n",
            "weighted avg       0.87      0.87      0.86        30\n",
            "\n",
            "Accuracy is 86.66666666666667\n"
          ]
        }
      ]
    },
    {
      "cell_type": "markdown",
      "source": [
        "# UPSAMPLING DATA TO PREVENT OVERFITTING"
      ],
      "metadata": {
        "id": "vfhra96Du1u1"
      }
    },
    {
      "cell_type": "code",
      "source": [
        "# Using Imblearn\n",
        "!pip install imblearn"
      ],
      "metadata": {
        "colab": {
          "base_uri": "https://localhost:8080/"
        },
        "id": "ADholDw6rWy0",
        "outputId": "c849f876-62b9-49ef-9c69-50dae4435f73"
      },
      "execution_count": null,
      "outputs": [
        {
          "output_type": "stream",
          "name": "stdout",
          "text": [
            "Looking in indexes: https://pypi.org/simple, https://us-python.pkg.dev/colab-wheels/public/simple/\n",
            "Requirement already satisfied: imblearn in /usr/local/lib/python3.8/dist-packages (0.0)\n",
            "Requirement already satisfied: imbalanced-learn in /usr/local/lib/python3.8/dist-packages (from imblearn) (0.8.1)\n",
            "Requirement already satisfied: scikit-learn>=0.24 in /usr/local/lib/python3.8/dist-packages (from imbalanced-learn->imblearn) (1.0.2)\n",
            "Requirement already satisfied: joblib>=0.11 in /usr/local/lib/python3.8/dist-packages (from imbalanced-learn->imblearn) (1.2.0)\n",
            "Requirement already satisfied: numpy>=1.13.3 in /usr/local/lib/python3.8/dist-packages (from imbalanced-learn->imblearn) (1.21.6)\n",
            "Requirement already satisfied: scipy>=0.19.1 in /usr/local/lib/python3.8/dist-packages (from imbalanced-learn->imblearn) (1.7.3)\n",
            "Requirement already satisfied: threadpoolctl>=2.0.0 in /usr/local/lib/python3.8/dist-packages (from scikit-learn>=0.24->imbalanced-learn->imblearn) (3.1.0)\n"
          ]
        }
      ]
    },
    {
      "cell_type": "code",
      "source": [
        "from imblearn.over_sampling import SMOTE\n",
        "smote  = SMOTE()"
      ],
      "metadata": {
        "id": "u1FGDFMBrW1b"
      },
      "execution_count": null,
      "outputs": []
    },
    {
      "cell_type": "code",
      "source": [
        "X_train_smote,y_train_smote = smote.fit_resample(X_train.astype('float'),y_train)"
      ],
      "metadata": {
        "id": "NAZICyXHrW4F"
      },
      "execution_count": null,
      "outputs": []
    },
    {
      "cell_type": "code",
      "source": [
        "from collections import Counter\n",
        "print(\"Before smote :\",Counter(y_train))\n",
        "print(\"After smote :\",Counter(y_train_smote))"
      ],
      "metadata": {
        "colab": {
          "base_uri": "https://localhost:8080/"
        },
        "id": "CcDXmKj3nqAg",
        "outputId": "f71f68a1-b027-4fc1-a818-f021cf742d1f"
      },
      "execution_count": null,
      "outputs": [
        {
          "output_type": "stream",
          "name": "stdout",
          "text": [
            "Before smote : Counter({1: 67, 0: 49})\n",
            "After smote : Counter({0: 67, 1: 67})\n"
          ]
        }
      ]
    },
    {
      "cell_type": "code",
      "source": [
        "from sklearn.metrics import confusion_matrix, accuracy_score\n",
        "logistic_model = LogisticRegression()\n",
        "logistic_model.fit(X_train_smote, y_train_smote)\n",
        "y_pred = logistic_model.predict(X_test)\n",
        "\n",
        "accuracy = accuracy_score(y_test,y_pred)*100\n",
        "confusion_mat = confusion_matrix(y_test,y_pred)\n",
        "\n",
        "print(\"Accuracy is\",accuracy)\n",
        "print(\"Confusion Matrix\")\n",
        "print(confusion_mat)"
      ],
      "metadata": {
        "colab": {
          "base_uri": "https://localhost:8080/"
        },
        "id": "RA-eTb-Mr00w",
        "outputId": "3c70710b-6698-4f5d-b13e-9ac0bec2264e"
      },
      "execution_count": null,
      "outputs": [
        {
          "output_type": "stream",
          "name": "stdout",
          "text": [
            "Accuracy is 66.66666666666666\n",
            "Confusion Matrix\n",
            "[[ 7  6]\n",
            " [ 4 13]]\n"
          ]
        }
      ]
    },
    {
      "cell_type": "code",
      "source": [
        "# with upsampling\n",
        "from sklearn.ensemble import RandomForestClassifier\n",
        "\n",
        "random_forest = RandomForestClassifier(n_estimators=30, max_depth=10, random_state=1)\n",
        "random_forest.fit(X_train_smote, y_train_smote)\n",
        "from sklearn.metrics import accuracy_score\n",
        "\n",
        "y_predict = random_forest.predict(X_test)\n",
        "accuracy_score(y_test, y_predict)*100"
      ],
      "metadata": {
        "colab": {
          "base_uri": "https://localhost:8080/"
        },
        "id": "T02D27YPr03R",
        "outputId": "e1afa83a-36cd-46a4-e14d-c1976f1256dd"
      },
      "execution_count": null,
      "outputs": [
        {
          "output_type": "execute_result",
          "data": {
            "text/plain": [
              "90.0"
            ]
          },
          "metadata": {},
          "execution_count": 35
        }
      ]
    },
    {
      "cell_type": "code",
      "source": [
        "import pandas as pd\n",
        "from sklearn.preprocessing import MinMaxScaler\n",
        "from sklearn.model_selection import train_test_split\n",
        "from sklearn.metrics import classification_report, confusion_matrix\n",
        "from sklearn.ensemble import GradientBoostingClassifier"
      ],
      "metadata": {
        "id": "RssVneuPsNhv"
      },
      "execution_count": null,
      "outputs": []
    },
    {
      "cell_type": "code",
      "source": [
        "# without upsampling\n",
        "lr_list = [0.05, 0.075, 0.1, 0.25, 0.5, 0.75, 1]\n",
        "\n",
        "for learning_rate in lr_list:\n",
        "    gb_clf = GradientBoostingClassifier(n_estimators=20, learning_rate=learning_rate, max_features=2, max_depth=2, random_state=0)\n",
        "    gb_clf.fit(X_train, y_train)\n",
        "\n",
        "    print(\"Learning rate: \", learning_rate)\n",
        "    print(\"Accuracy score (training): {0:.3f}\".format(gb_clf.score(X_train, y_train)))\n",
        "    print(\"Accuracy score (validation): {0:.3f}\".format(gb_clf.score(X_test, y_test)))"
      ],
      "metadata": {
        "colab": {
          "base_uri": "https://localhost:8080/"
        },
        "id": "xWum_zNxr05k",
        "outputId": "2ddd0565-dc6e-4446-9829-6c449a7f7059"
      },
      "execution_count": null,
      "outputs": [
        {
          "output_type": "stream",
          "name": "stdout",
          "text": [
            "Learning rate:  0.05\n",
            "Accuracy score (training): 0.853\n",
            "Accuracy score (validation): 0.800\n",
            "Learning rate:  0.075\n",
            "Accuracy score (training): 0.853\n",
            "Accuracy score (validation): 0.767\n",
            "Learning rate:  0.1\n",
            "Accuracy score (training): 0.871\n",
            "Accuracy score (validation): 0.767\n",
            "Learning rate:  0.25\n",
            "Accuracy score (training): 0.948\n",
            "Accuracy score (validation): 0.767\n",
            "Learning rate:  0.5\n",
            "Accuracy score (training): 0.983\n",
            "Accuracy score (validation): 0.833\n",
            "Learning rate:  0.75\n",
            "Accuracy score (training): 1.000\n",
            "Accuracy score (validation): 0.867\n",
            "Learning rate:  1\n",
            "Accuracy score (training): 1.000\n",
            "Accuracy score (validation): 0.900\n"
          ]
        }
      ]
    },
    {
      "cell_type": "code",
      "source": [
        "gb_clf2 = GradientBoostingClassifier(n_estimators=20, learning_rate=0.5, max_features=2, max_depth=2, random_state=0)\n",
        "gb_clf2.fit(X_train, y_train)\n",
        "predictions = gb_clf2.predict(X_test)\n",
        "\n",
        "print(\"Confusion Matrix:\")\n",
        "print(confusion_matrix(y_test, predictions))\n",
        "\n",
        "print(\"Classification Report\")\n",
        "print(classification_report(y_test, predictions))"
      ],
      "metadata": {
        "colab": {
          "base_uri": "https://localhost:8080/"
        },
        "id": "k2RkMEJ4sJt5",
        "outputId": "dac1f5ed-d8ae-4b62-e662-618ae5a87b79"
      },
      "execution_count": null,
      "outputs": [
        {
          "output_type": "stream",
          "name": "stdout",
          "text": [
            "Confusion Matrix:\n",
            "[[ 8  5]\n",
            " [ 0 17]]\n",
            "Classification Report\n",
            "              precision    recall  f1-score   support\n",
            "\n",
            "           0       1.00      0.62      0.76        13\n",
            "           1       0.77      1.00      0.87        17\n",
            "\n",
            "    accuracy                           0.83        30\n",
            "   macro avg       0.89      0.81      0.82        30\n",
            "weighted avg       0.87      0.83      0.82        30\n",
            "\n"
          ]
        }
      ]
    },
    {
      "cell_type": "markdown",
      "source": [
        "# XGBOOST"
      ],
      "metadata": {
        "id": "4vHLljwmvJAW"
      }
    },
    {
      "cell_type": "code",
      "source": [
        "!pip install xgboost"
      ],
      "metadata": {
        "colab": {
          "base_uri": "https://localhost:8080/"
        },
        "id": "2AT2u684sJwc",
        "outputId": "1e6ee8cb-9c2e-49d1-d7c6-b3867a2ae52d"
      },
      "execution_count": null,
      "outputs": [
        {
          "output_type": "stream",
          "name": "stdout",
          "text": [
            "Looking in indexes: https://pypi.org/simple, https://us-python.pkg.dev/colab-wheels/public/simple/\n",
            "Requirement already satisfied: xgboost in /usr/local/lib/python3.8/dist-packages (0.90)\n",
            "Requirement already satisfied: numpy in /usr/local/lib/python3.8/dist-packages (from xgboost) (1.21.6)\n",
            "Requirement already satisfied: scipy in /usr/local/lib/python3.8/dist-packages (from xgboost) (1.7.3)\n"
          ]
        }
      ]
    },
    {
      "cell_type": "code",
      "source": [
        "# without upsampling\n",
        "from xgboost import XGBClassifier\n",
        "xgb_clf = XGBClassifier()\n",
        "xgb_clf.fit(X_train, y_train)\n",
        "score = xgb_clf.score(X_test, y_test)\n",
        "print(score)"
      ],
      "metadata": {
        "colab": {
          "base_uri": "https://localhost:8080/"
        },
        "id": "BuLP3J8hsJy8",
        "outputId": "6fef1b07-69e1-478e-fe5e-74199ab13a6d"
      },
      "execution_count": null,
      "outputs": [
        {
          "output_type": "stream",
          "name": "stdout",
          "text": [
            "0.9\n"
          ]
        }
      ]
    },
    {
      "cell_type": "code",
      "source": [
        "# with upsampling\n",
        "from xgboost import XGBClassifier\n",
        "xgb_clf = XGBClassifier()\n",
        "xgb_clf.fit(X_train_smote, y_train_smote)\n",
        "score = xgb_clf.score(X_test, y_test)\n",
        "\n",
        "y_pred_xgb=xgb_clf.predict(X_test)\n",
        "confusion_mat = confusion_matrix(y_test,y_pred_xgb)\n",
        "print(\"accuracy :\",score*100)\n",
        "print(\"confusion matrix :\",confusion_mat)\n",
        "print(\"Classification report :\",classification_report(y_test,y_pred_xgb) )"
      ],
      "metadata": {
        "colab": {
          "base_uri": "https://localhost:8080/"
        },
        "id": "PMziaKKenqC_",
        "outputId": "fee30b39-04a8-4320-df96-071fad7a1379"
      },
      "execution_count": null,
      "outputs": [
        {
          "output_type": "stream",
          "name": "stdout",
          "text": [
            "accuracy : 93.33333333333333\n",
            "confusion matrix : [[12  1]\n",
            " [ 1 16]]\n",
            "Classification report :               precision    recall  f1-score   support\n",
            "\n",
            "           0       0.92      0.92      0.92        13\n",
            "           1       0.94      0.94      0.94        17\n",
            "\n",
            "    accuracy                           0.93        30\n",
            "   macro avg       0.93      0.93      0.93        30\n",
            "weighted avg       0.93      0.93      0.93        30\n",
            "\n"
          ]
        }
      ]
    }
  ]
}